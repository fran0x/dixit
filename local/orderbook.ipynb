{
 "cells": [
  {
   "cell_type": "code",
   "execution_count": 2,
   "metadata": {},
   "outputs": [],
   "source": [
    "import pandas as pd\n",
    "import plotly.graph_objects as go\n",
    "import re"
   ]
  },
  {
   "cell_type": "code",
   "execution_count": 3,
   "metadata": {},
   "outputs": [
    {
     "data": {
      "text/html": [
       "<div>\n",
       "<style scoped>\n",
       "    .dataframe tbody tr th:only-of-type {\n",
       "        vertical-align: middle;\n",
       "    }\n",
       "\n",
       "    .dataframe tbody tr th {\n",
       "        vertical-align: top;\n",
       "    }\n",
       "\n",
       "    .dataframe thead th {\n",
       "        text-align: right;\n",
       "    }\n",
       "</style>\n",
       "<table border=\"1\" class=\"dataframe\">\n",
       "  <thead>\n",
       "    <tr style=\"text-align: right;\">\n",
       "      <th></th>\n",
       "      <th>exchange_id</th>\n",
       "      <th>symbol_id</th>\n",
       "      <th>buys</th>\n",
       "      <th>sells</th>\n",
       "      <th>tob_0_price</th>\n",
       "      <th>tob_0_quantity</th>\n",
       "      <th>tob_1_price</th>\n",
       "      <th>tob_1_quantity</th>\n",
       "      <th>trades</th>\n",
       "      <th>properties</th>\n",
       "      <th>healthy</th>\n",
       "      <th>stale</th>\n",
       "      <th>ignore</th>\n",
       "      <th>exchange_ts</th>\n",
       "      <th>internal_ts</th>\n",
       "      <th>buy_prices</th>\n",
       "      <th>sell_prices</th>\n",
       "      <th>trade_prices</th>\n",
       "      <th>date</th>\n",
       "    </tr>\n",
       "  </thead>\n",
       "  <tbody>\n",
       "    <tr>\n",
       "      <th>0</th>\n",
       "      <td>100</td>\n",
       "      <td>200</td>\n",
       "      <td>[PriceLevel { price: 49.037699054311574, quant...</td>\n",
       "      <td>[PriceLevel { price: 50.448932183645724, quant...</td>\n",
       "      <td>49.037699</td>\n",
       "      <td>7.797284</td>\n",
       "      <td>50.448932</td>\n",
       "      <td>1.623753</td>\n",
       "      <td>[PriceLevel { price: 49.45948149065878, quanti...</td>\n",
       "      <td>{\"service\": \"test\"}</td>\n",
       "      <td>False</td>\n",
       "      <td>False</td>\n",
       "      <td>False</td>\n",
       "      <td>1726825523744527000</td>\n",
       "      <td>1726825523744606924</td>\n",
       "      <td>[49.037699054311574, 48.46135216985009, 48.357...</td>\n",
       "      <td>[50.448932183645724, 50.331930340975795, 52.64...</td>\n",
       "      <td>[49.45948149065878, 49.626299181401556, 50.082...</td>\n",
       "      <td>2024-09-20 09:45:23.744527000</td>\n",
       "    </tr>\n",
       "    <tr>\n",
       "      <th>1</th>\n",
       "      <td>100</td>\n",
       "      <td>200</td>\n",
       "      <td>[PriceLevel { price: 49.59945442868031, quanti...</td>\n",
       "      <td>[PriceLevel { price: 49.59945442868031, quanti...</td>\n",
       "      <td>49.599454</td>\n",
       "      <td>7.797284</td>\n",
       "      <td>49.599454</td>\n",
       "      <td>1.623753</td>\n",
       "      <td>[PriceLevel { price: 49.59945442868031, quanti...</td>\n",
       "      <td>{\"service\": \"test\"}</td>\n",
       "      <td>False</td>\n",
       "      <td>False</td>\n",
       "      <td>False</td>\n",
       "      <td>1726825523744535171</td>\n",
       "      <td>1726825523744590584</td>\n",
       "      <td>[49.59945442868031, 49.329144703467975, 49.292...</td>\n",
       "      <td>[49.59945442868031, 50.04542334832386, 50.1403...</td>\n",
       "      <td>[49.59945442868031, 49.59945442868031, 49.5994...</td>\n",
       "      <td>2024-09-20 09:45:23.744535171</td>\n",
       "    </tr>\n",
       "    <tr>\n",
       "      <th>2</th>\n",
       "      <td>100</td>\n",
       "      <td>200</td>\n",
       "      <td>[PriceLevel { price: 49.23123888303407, quanti...</td>\n",
       "      <td>[PriceLevel { price: 49.23123888303407, quanti...</td>\n",
       "      <td>49.231239</td>\n",
       "      <td>7.797284</td>\n",
       "      <td>49.231239</td>\n",
       "      <td>1.623753</td>\n",
       "      <td>[PriceLevel { price: 49.23123888303407, quanti...</td>\n",
       "      <td>{\"service\": \"test\"}</td>\n",
       "      <td>False</td>\n",
       "      <td>False</td>\n",
       "      <td>False</td>\n",
       "      <td>1726825523744543174</td>\n",
       "      <td>1726825523744608149</td>\n",
       "      <td>[49.23123888303407, 48.916968526779414, 48.864...</td>\n",
       "      <td>[49.23123888303407, 50.13332660113922, 49.9438...</td>\n",
       "      <td>[49.23123888303407]</td>\n",
       "      <td>2024-09-20 09:45:23.744543174</td>\n",
       "    </tr>\n",
       "    <tr>\n",
       "      <th>3</th>\n",
       "      <td>100</td>\n",
       "      <td>200</td>\n",
       "      <td>[PriceLevel { price: 49.35546543183609, quanti...</td>\n",
       "      <td>[PriceLevel { price: 49.35546543183609, quanti...</td>\n",
       "      <td>49.355465</td>\n",
       "      <td>7.797284</td>\n",
       "      <td>49.355465</td>\n",
       "      <td>1.623753</td>\n",
       "      <td>[PriceLevel { price: 49.35546543183609, quanti...</td>\n",
       "      <td>{\"service\": \"test\"}</td>\n",
       "      <td>False</td>\n",
       "      <td>False</td>\n",
       "      <td>False</td>\n",
       "      <td>1726825523744548987</td>\n",
       "      <td>1726825523744646105</td>\n",
       "      <td>[49.35546543183609, 48.797564018314006, 47.986...</td>\n",
       "      <td>[49.35546543183609, 50.085320926410475, 49.991...</td>\n",
       "      <td>[49.35546543183609, 49.35546543183609, 49.3554...</td>\n",
       "      <td>2024-09-20 09:45:23.744548987</td>\n",
       "    </tr>\n",
       "    <tr>\n",
       "      <th>4</th>\n",
       "      <td>100</td>\n",
       "      <td>200</td>\n",
       "      <td>[PriceLevel { price: 49.54203991958444, quanti...</td>\n",
       "      <td>[PriceLevel { price: 49.54203991958444, quanti...</td>\n",
       "      <td>49.542040</td>\n",
       "      <td>7.797284</td>\n",
       "      <td>49.542040</td>\n",
       "      <td>1.623753</td>\n",
       "      <td>[PriceLevel { price: 49.54203991958444, quanti...</td>\n",
       "      <td>{\"service\": \"test\"}</td>\n",
       "      <td>False</td>\n",
       "      <td>False</td>\n",
       "      <td>False</td>\n",
       "      <td>1726825523744554647</td>\n",
       "      <td>1726825523744565519</td>\n",
       "      <td>[49.54203991958444, 48.729483672787296, 47.702...</td>\n",
       "      <td>[49.54203991958444, 50.46875317030652, 51.2605...</td>\n",
       "      <td>[49.54203991958444, 49.54203991958444, 49.5420...</td>\n",
       "      <td>2024-09-20 09:45:23.744554647</td>\n",
       "    </tr>\n",
       "  </tbody>\n",
       "</table>\n",
       "</div>"
      ],
      "text/plain": [
       "   exchange_id  symbol_id                                               buys  \\\n",
       "0          100        200  [PriceLevel { price: 49.037699054311574, quant...   \n",
       "1          100        200  [PriceLevel { price: 49.59945442868031, quanti...   \n",
       "2          100        200  [PriceLevel { price: 49.23123888303407, quanti...   \n",
       "3          100        200  [PriceLevel { price: 49.35546543183609, quanti...   \n",
       "4          100        200  [PriceLevel { price: 49.54203991958444, quanti...   \n",
       "\n",
       "                                               sells  tob_0_price  \\\n",
       "0  [PriceLevel { price: 50.448932183645724, quant...    49.037699   \n",
       "1  [PriceLevel { price: 49.59945442868031, quanti...    49.599454   \n",
       "2  [PriceLevel { price: 49.23123888303407, quanti...    49.231239   \n",
       "3  [PriceLevel { price: 49.35546543183609, quanti...    49.355465   \n",
       "4  [PriceLevel { price: 49.54203991958444, quanti...    49.542040   \n",
       "\n",
       "   tob_0_quantity  tob_1_price  tob_1_quantity  \\\n",
       "0        7.797284    50.448932        1.623753   \n",
       "1        7.797284    49.599454        1.623753   \n",
       "2        7.797284    49.231239        1.623753   \n",
       "3        7.797284    49.355465        1.623753   \n",
       "4        7.797284    49.542040        1.623753   \n",
       "\n",
       "                                              trades           properties  \\\n",
       "0  [PriceLevel { price: 49.45948149065878, quanti...  {\"service\": \"test\"}   \n",
       "1  [PriceLevel { price: 49.59945442868031, quanti...  {\"service\": \"test\"}   \n",
       "2  [PriceLevel { price: 49.23123888303407, quanti...  {\"service\": \"test\"}   \n",
       "3  [PriceLevel { price: 49.35546543183609, quanti...  {\"service\": \"test\"}   \n",
       "4  [PriceLevel { price: 49.54203991958444, quanti...  {\"service\": \"test\"}   \n",
       "\n",
       "   healthy  stale  ignore          exchange_ts          internal_ts  \\\n",
       "0    False  False   False  1726825523744527000  1726825523744606924   \n",
       "1    False  False   False  1726825523744535171  1726825523744590584   \n",
       "2    False  False   False  1726825523744543174  1726825523744608149   \n",
       "3    False  False   False  1726825523744548987  1726825523744646105   \n",
       "4    False  False   False  1726825523744554647  1726825523744565519   \n",
       "\n",
       "                                          buy_prices  \\\n",
       "0  [49.037699054311574, 48.46135216985009, 48.357...   \n",
       "1  [49.59945442868031, 49.329144703467975, 49.292...   \n",
       "2  [49.23123888303407, 48.916968526779414, 48.864...   \n",
       "3  [49.35546543183609, 48.797564018314006, 47.986...   \n",
       "4  [49.54203991958444, 48.729483672787296, 47.702...   \n",
       "\n",
       "                                         sell_prices  \\\n",
       "0  [50.448932183645724, 50.331930340975795, 52.64...   \n",
       "1  [49.59945442868031, 50.04542334832386, 50.1403...   \n",
       "2  [49.23123888303407, 50.13332660113922, 49.9438...   \n",
       "3  [49.35546543183609, 50.085320926410475, 49.991...   \n",
       "4  [49.54203991958444, 50.46875317030652, 51.2605...   \n",
       "\n",
       "                                        trade_prices  \\\n",
       "0  [49.45948149065878, 49.626299181401556, 50.082...   \n",
       "1  [49.59945442868031, 49.59945442868031, 49.5994...   \n",
       "2                                [49.23123888303407]   \n",
       "3  [49.35546543183609, 49.35546543183609, 49.3554...   \n",
       "4  [49.54203991958444, 49.54203991958444, 49.5420...   \n",
       "\n",
       "                           date  \n",
       "0 2024-09-20 09:45:23.744527000  \n",
       "1 2024-09-20 09:45:23.744535171  \n",
       "2 2024-09-20 09:45:23.744543174  \n",
       "3 2024-09-20 09:45:23.744548987  \n",
       "4 2024-09-20 09:45:23.744554647  "
      ]
     },
     "execution_count": 3,
     "metadata": {},
     "output_type": "execute_result"
    }
   ],
   "source": [
    "def prices(data):\n",
    "    price_pattern = re.compile(r\"price: (\\d+\\.\\d+)\")\n",
    "    return [float(price) for price in price_pattern.findall(data)]\n",
    "\n",
    "df = pd.read_parquet('orderbook.parquet', engine='pyarrow')\n",
    "df['buy_prices'] = df['buys'].apply(prices)\n",
    "df['sell_prices'] = df['sells'].apply(prices)\n",
    "df['trade_prices'] = df['trades'].apply(prices)\n",
    "df['date'] = pd.to_datetime(df['exchange_ts'], unit='ns')\n",
    "#df.drop(columns=['properties', 'buys', 'sells', 'trades', 'healthy', 'stale', 'ignore'], inplace=True)\n",
    "df.head()"
   ]
  },
  {
   "cell_type": "code",
   "execution_count": 4,
   "metadata": {},
   "outputs": [
    {
     "data": {
      "text/html": [
       "<div>\n",
       "<style scoped>\n",
       "    .dataframe tbody tr th:only-of-type {\n",
       "        vertical-align: middle;\n",
       "    }\n",
       "\n",
       "    .dataframe tbody tr th {\n",
       "        vertical-align: top;\n",
       "    }\n",
       "\n",
       "    .dataframe thead th {\n",
       "        text-align: right;\n",
       "    }\n",
       "</style>\n",
       "<table border=\"1\" class=\"dataframe\">\n",
       "  <thead>\n",
       "    <tr style=\"text-align: right;\">\n",
       "      <th></th>\n",
       "      <th>exchange_id</th>\n",
       "      <th>symbol_id</th>\n",
       "      <th>buys</th>\n",
       "      <th>sells</th>\n",
       "      <th>tob_0_price</th>\n",
       "      <th>tob_0_quantity</th>\n",
       "      <th>tob_1_price</th>\n",
       "      <th>tob_1_quantity</th>\n",
       "      <th>trades</th>\n",
       "      <th>properties</th>\n",
       "      <th>...</th>\n",
       "      <th>exchange_ts</th>\n",
       "      <th>internal_ts</th>\n",
       "      <th>buy_prices</th>\n",
       "      <th>sell_prices</th>\n",
       "      <th>trade_prices</th>\n",
       "      <th>date</th>\n",
       "      <th>open</th>\n",
       "      <th>high</th>\n",
       "      <th>low</th>\n",
       "      <th>close</th>\n",
       "    </tr>\n",
       "  </thead>\n",
       "  <tbody>\n",
       "    <tr>\n",
       "      <th>0</th>\n",
       "      <td>100</td>\n",
       "      <td>200</td>\n",
       "      <td>[PriceLevel { price: 49.037699054311574, quant...</td>\n",
       "      <td>[PriceLevel { price: 50.448932183645724, quant...</td>\n",
       "      <td>49.037699</td>\n",
       "      <td>7.797284</td>\n",
       "      <td>50.448932</td>\n",
       "      <td>1.623753</td>\n",
       "      <td>[PriceLevel { price: 49.45948149065878, quanti...</td>\n",
       "      <td>{\"service\": \"test\"}</td>\n",
       "      <td>...</td>\n",
       "      <td>1726825523744527000</td>\n",
       "      <td>1726825523744606924</td>\n",
       "      <td>[49.037699054311574, 48.46135216985009, 48.357...</td>\n",
       "      <td>[50.448932183645724, 50.331930340975795, 52.64...</td>\n",
       "      <td>[49.45948149065878, 49.626299181401556, 50.082...</td>\n",
       "      <td>2024-09-20 09:45:23.744527000</td>\n",
       "      <td>49.459481</td>\n",
       "      <td>50.082337</td>\n",
       "      <td>49.438125</td>\n",
       "      <td>49.438125</td>\n",
       "    </tr>\n",
       "    <tr>\n",
       "      <th>1</th>\n",
       "      <td>100</td>\n",
       "      <td>200</td>\n",
       "      <td>[PriceLevel { price: 49.59945442868031, quanti...</td>\n",
       "      <td>[PriceLevel { price: 49.59945442868031, quanti...</td>\n",
       "      <td>49.599454</td>\n",
       "      <td>7.797284</td>\n",
       "      <td>49.599454</td>\n",
       "      <td>1.623753</td>\n",
       "      <td>[PriceLevel { price: 49.59945442868031, quanti...</td>\n",
       "      <td>{\"service\": \"test\"}</td>\n",
       "      <td>...</td>\n",
       "      <td>1726825523744535171</td>\n",
       "      <td>1726825523744590584</td>\n",
       "      <td>[49.59945442868031, 49.329144703467975, 49.292...</td>\n",
       "      <td>[49.59945442868031, 50.04542334832386, 50.1403...</td>\n",
       "      <td>[49.59945442868031, 49.59945442868031, 49.5994...</td>\n",
       "      <td>2024-09-20 09:45:23.744535171</td>\n",
       "      <td>49.438125</td>\n",
       "      <td>49.599454</td>\n",
       "      <td>49.599454</td>\n",
       "      <td>49.599454</td>\n",
       "    </tr>\n",
       "    <tr>\n",
       "      <th>2</th>\n",
       "      <td>100</td>\n",
       "      <td>200</td>\n",
       "      <td>[PriceLevel { price: 49.23123888303407, quanti...</td>\n",
       "      <td>[PriceLevel { price: 49.23123888303407, quanti...</td>\n",
       "      <td>49.231239</td>\n",
       "      <td>7.797284</td>\n",
       "      <td>49.231239</td>\n",
       "      <td>1.623753</td>\n",
       "      <td>[PriceLevel { price: 49.23123888303407, quanti...</td>\n",
       "      <td>{\"service\": \"test\"}</td>\n",
       "      <td>...</td>\n",
       "      <td>1726825523744543174</td>\n",
       "      <td>1726825523744608149</td>\n",
       "      <td>[49.23123888303407, 48.916968526779414, 48.864...</td>\n",
       "      <td>[49.23123888303407, 50.13332660113922, 49.9438...</td>\n",
       "      <td>[49.23123888303407]</td>\n",
       "      <td>2024-09-20 09:45:23.744543174</td>\n",
       "      <td>49.599454</td>\n",
       "      <td>49.231239</td>\n",
       "      <td>49.231239</td>\n",
       "      <td>49.231239</td>\n",
       "    </tr>\n",
       "    <tr>\n",
       "      <th>3</th>\n",
       "      <td>100</td>\n",
       "      <td>200</td>\n",
       "      <td>[PriceLevel { price: 49.35546543183609, quanti...</td>\n",
       "      <td>[PriceLevel { price: 49.35546543183609, quanti...</td>\n",
       "      <td>49.355465</td>\n",
       "      <td>7.797284</td>\n",
       "      <td>49.355465</td>\n",
       "      <td>1.623753</td>\n",
       "      <td>[PriceLevel { price: 49.35546543183609, quanti...</td>\n",
       "      <td>{\"service\": \"test\"}</td>\n",
       "      <td>...</td>\n",
       "      <td>1726825523744548987</td>\n",
       "      <td>1726825523744646105</td>\n",
       "      <td>[49.35546543183609, 48.797564018314006, 47.986...</td>\n",
       "      <td>[49.35546543183609, 50.085320926410475, 49.991...</td>\n",
       "      <td>[49.35546543183609, 49.35546543183609, 49.3554...</td>\n",
       "      <td>2024-09-20 09:45:23.744548987</td>\n",
       "      <td>49.231239</td>\n",
       "      <td>49.355465</td>\n",
       "      <td>49.355465</td>\n",
       "      <td>49.355465</td>\n",
       "    </tr>\n",
       "    <tr>\n",
       "      <th>4</th>\n",
       "      <td>100</td>\n",
       "      <td>200</td>\n",
       "      <td>[PriceLevel { price: 49.54203991958444, quanti...</td>\n",
       "      <td>[PriceLevel { price: 49.54203991958444, quanti...</td>\n",
       "      <td>49.542040</td>\n",
       "      <td>7.797284</td>\n",
       "      <td>49.542040</td>\n",
       "      <td>1.623753</td>\n",
       "      <td>[PriceLevel { price: 49.54203991958444, quanti...</td>\n",
       "      <td>{\"service\": \"test\"}</td>\n",
       "      <td>...</td>\n",
       "      <td>1726825523744554647</td>\n",
       "      <td>1726825523744565519</td>\n",
       "      <td>[49.54203991958444, 48.729483672787296, 47.702...</td>\n",
       "      <td>[49.54203991958444, 50.46875317030652, 51.2605...</td>\n",
       "      <td>[49.54203991958444, 49.54203991958444, 49.5420...</td>\n",
       "      <td>2024-09-20 09:45:23.744554647</td>\n",
       "      <td>49.355465</td>\n",
       "      <td>49.542040</td>\n",
       "      <td>49.542040</td>\n",
       "      <td>49.542040</td>\n",
       "    </tr>\n",
       "  </tbody>\n",
       "</table>\n",
       "<p>5 rows × 23 columns</p>\n",
       "</div>"
      ],
      "text/plain": [
       "   exchange_id  symbol_id                                               buys  \\\n",
       "0          100        200  [PriceLevel { price: 49.037699054311574, quant...   \n",
       "1          100        200  [PriceLevel { price: 49.59945442868031, quanti...   \n",
       "2          100        200  [PriceLevel { price: 49.23123888303407, quanti...   \n",
       "3          100        200  [PriceLevel { price: 49.35546543183609, quanti...   \n",
       "4          100        200  [PriceLevel { price: 49.54203991958444, quanti...   \n",
       "\n",
       "                                               sells  tob_0_price  \\\n",
       "0  [PriceLevel { price: 50.448932183645724, quant...    49.037699   \n",
       "1  [PriceLevel { price: 49.59945442868031, quanti...    49.599454   \n",
       "2  [PriceLevel { price: 49.23123888303407, quanti...    49.231239   \n",
       "3  [PriceLevel { price: 49.35546543183609, quanti...    49.355465   \n",
       "4  [PriceLevel { price: 49.54203991958444, quanti...    49.542040   \n",
       "\n",
       "   tob_0_quantity  tob_1_price  tob_1_quantity  \\\n",
       "0        7.797284    50.448932        1.623753   \n",
       "1        7.797284    49.599454        1.623753   \n",
       "2        7.797284    49.231239        1.623753   \n",
       "3        7.797284    49.355465        1.623753   \n",
       "4        7.797284    49.542040        1.623753   \n",
       "\n",
       "                                              trades           properties  \\\n",
       "0  [PriceLevel { price: 49.45948149065878, quanti...  {\"service\": \"test\"}   \n",
       "1  [PriceLevel { price: 49.59945442868031, quanti...  {\"service\": \"test\"}   \n",
       "2  [PriceLevel { price: 49.23123888303407, quanti...  {\"service\": \"test\"}   \n",
       "3  [PriceLevel { price: 49.35546543183609, quanti...  {\"service\": \"test\"}   \n",
       "4  [PriceLevel { price: 49.54203991958444, quanti...  {\"service\": \"test\"}   \n",
       "\n",
       "   ...          exchange_ts          internal_ts  \\\n",
       "0  ...  1726825523744527000  1726825523744606924   \n",
       "1  ...  1726825523744535171  1726825523744590584   \n",
       "2  ...  1726825523744543174  1726825523744608149   \n",
       "3  ...  1726825523744548987  1726825523744646105   \n",
       "4  ...  1726825523744554647  1726825523744565519   \n",
       "\n",
       "                                          buy_prices  \\\n",
       "0  [49.037699054311574, 48.46135216985009, 48.357...   \n",
       "1  [49.59945442868031, 49.329144703467975, 49.292...   \n",
       "2  [49.23123888303407, 48.916968526779414, 48.864...   \n",
       "3  [49.35546543183609, 48.797564018314006, 47.986...   \n",
       "4  [49.54203991958444, 48.729483672787296, 47.702...   \n",
       "\n",
       "                                         sell_prices  \\\n",
       "0  [50.448932183645724, 50.331930340975795, 52.64...   \n",
       "1  [49.59945442868031, 50.04542334832386, 50.1403...   \n",
       "2  [49.23123888303407, 50.13332660113922, 49.9438...   \n",
       "3  [49.35546543183609, 50.085320926410475, 49.991...   \n",
       "4  [49.54203991958444, 50.46875317030652, 51.2605...   \n",
       "\n",
       "                                        trade_prices  \\\n",
       "0  [49.45948149065878, 49.626299181401556, 50.082...   \n",
       "1  [49.59945442868031, 49.59945442868031, 49.5994...   \n",
       "2                                [49.23123888303407]   \n",
       "3  [49.35546543183609, 49.35546543183609, 49.3554...   \n",
       "4  [49.54203991958444, 49.54203991958444, 49.5420...   \n",
       "\n",
       "                           date       open       high        low      close  \n",
       "0 2024-09-20 09:45:23.744527000  49.459481  50.082337  49.438125  49.438125  \n",
       "1 2024-09-20 09:45:23.744535171  49.438125  49.599454  49.599454  49.599454  \n",
       "2 2024-09-20 09:45:23.744543174  49.599454  49.231239  49.231239  49.231239  \n",
       "3 2024-09-20 09:45:23.744548987  49.231239  49.355465  49.355465  49.355465  \n",
       "4 2024-09-20 09:45:23.744554647  49.355465  49.542040  49.542040  49.542040  \n",
       "\n",
       "[5 rows x 23 columns]"
      ]
     },
     "execution_count": 4,
     "metadata": {},
     "output_type": "execute_result"
    }
   ],
   "source": [
    "def hlc(df):\n",
    "    trade_prices = df[\"trade_prices\"]\n",
    "    if not trade_prices:\n",
    "        return None, None, None, None\n",
    "    \n",
    "    high = max(trade_prices)\n",
    "    low = min(trade_prices)\n",
    "    close = trade_prices[-1]\n",
    "    return pd.Series([None, high, low, close])\n",
    "\n",
    "df[['open', 'high', 'low', 'close']] = df.apply(hlc, axis = 1)\n",
    "\n",
    "df.at[0, 'open'] = df['trade_prices'].iloc[0][0]\n",
    "for i in range(1, len(df)):\n",
    "    df.at[i, 'open'] = df.at[i-1, 'close']\n",
    "\n",
    "df.head()"
   ]
  },
  {
   "cell_type": "code",
   "execution_count": 5,
   "metadata": {},
   "outputs": [
    {
     "data": {
      "application/vnd.plotly.v1+json": {
       "config": {
        "plotlyServerURL": "https://plot.ly"
       },
       "data": [
        {
         "close": [
          49.43812495552732,
          49.59945442868031,
          49.23123888303407,
          49.35546543183609,
          49.54203991958444,
          49.667955922117024,
          49.802681245304925,
          49.68951585834225,
          49.773869263468185,
          49.328642042569804,
          49.37676917824724
         ],
         "high": [
          50.082336684832676,
          49.59945442868031,
          49.23123888303407,
          49.35546543183609,
          49.54203991958444,
          49.667955922117024,
          49.802681245304925,
          49.68951585834225,
          49.773869263468185,
          49.328642042569804,
          49.37676917824724
         ],
         "low": [
          49.43812495552732,
          49.59945442868031,
          49.23123888303407,
          49.35546543183609,
          49.54203991958444,
          49.667955922117024,
          49.802681245304925,
          49.68951585834225,
          49.773869263468185,
          49.328642042569804,
          49.37676917824724
         ],
         "open": [
          49.45948149065878,
          49.43812495552732,
          49.59945442868031,
          49.23123888303407,
          49.35546543183609,
          49.54203991958444,
          49.667955922117024,
          49.802681245304925,
          49.68951585834225,
          49.773869263468185,
          49.328642042569804
         ],
         "type": "candlestick",
         "x": [
          "2024-09-20T09:45:23.744527",
          "2024-09-20T09:45:23.744535",
          "2024-09-20T09:45:23.744543",
          "2024-09-20T09:45:23.744548",
          "2024-09-20T09:45:23.744554",
          "2024-09-20T09:45:23.744562",
          "2024-09-20T09:45:23.744568",
          "2024-09-20T09:45:23.744570",
          "2024-09-20T09:45:23.744576",
          "2024-09-20T09:45:23.744584",
          "2024-09-20T09:45:23.744591"
         ]
        }
       ],
       "layout": {
        "template": {
         "data": {
          "bar": [
           {
            "error_x": {
             "color": "#2a3f5f"
            },
            "error_y": {
             "color": "#2a3f5f"
            },
            "marker": {
             "line": {
              "color": "#E5ECF6",
              "width": 0.5
             },
             "pattern": {
              "fillmode": "overlay",
              "size": 10,
              "solidity": 0.2
             }
            },
            "type": "bar"
           }
          ],
          "barpolar": [
           {
            "marker": {
             "line": {
              "color": "#E5ECF6",
              "width": 0.5
             },
             "pattern": {
              "fillmode": "overlay",
              "size": 10,
              "solidity": 0.2
             }
            },
            "type": "barpolar"
           }
          ],
          "carpet": [
           {
            "aaxis": {
             "endlinecolor": "#2a3f5f",
             "gridcolor": "white",
             "linecolor": "white",
             "minorgridcolor": "white",
             "startlinecolor": "#2a3f5f"
            },
            "baxis": {
             "endlinecolor": "#2a3f5f",
             "gridcolor": "white",
             "linecolor": "white",
             "minorgridcolor": "white",
             "startlinecolor": "#2a3f5f"
            },
            "type": "carpet"
           }
          ],
          "choropleth": [
           {
            "colorbar": {
             "outlinewidth": 0,
             "ticks": ""
            },
            "type": "choropleth"
           }
          ],
          "contour": [
           {
            "colorbar": {
             "outlinewidth": 0,
             "ticks": ""
            },
            "colorscale": [
             [
              0,
              "#0d0887"
             ],
             [
              0.1111111111111111,
              "#46039f"
             ],
             [
              0.2222222222222222,
              "#7201a8"
             ],
             [
              0.3333333333333333,
              "#9c179e"
             ],
             [
              0.4444444444444444,
              "#bd3786"
             ],
             [
              0.5555555555555556,
              "#d8576b"
             ],
             [
              0.6666666666666666,
              "#ed7953"
             ],
             [
              0.7777777777777778,
              "#fb9f3a"
             ],
             [
              0.8888888888888888,
              "#fdca26"
             ],
             [
              1,
              "#f0f921"
             ]
            ],
            "type": "contour"
           }
          ],
          "contourcarpet": [
           {
            "colorbar": {
             "outlinewidth": 0,
             "ticks": ""
            },
            "type": "contourcarpet"
           }
          ],
          "heatmap": [
           {
            "colorbar": {
             "outlinewidth": 0,
             "ticks": ""
            },
            "colorscale": [
             [
              0,
              "#0d0887"
             ],
             [
              0.1111111111111111,
              "#46039f"
             ],
             [
              0.2222222222222222,
              "#7201a8"
             ],
             [
              0.3333333333333333,
              "#9c179e"
             ],
             [
              0.4444444444444444,
              "#bd3786"
             ],
             [
              0.5555555555555556,
              "#d8576b"
             ],
             [
              0.6666666666666666,
              "#ed7953"
             ],
             [
              0.7777777777777778,
              "#fb9f3a"
             ],
             [
              0.8888888888888888,
              "#fdca26"
             ],
             [
              1,
              "#f0f921"
             ]
            ],
            "type": "heatmap"
           }
          ],
          "heatmapgl": [
           {
            "colorbar": {
             "outlinewidth": 0,
             "ticks": ""
            },
            "colorscale": [
             [
              0,
              "#0d0887"
             ],
             [
              0.1111111111111111,
              "#46039f"
             ],
             [
              0.2222222222222222,
              "#7201a8"
             ],
             [
              0.3333333333333333,
              "#9c179e"
             ],
             [
              0.4444444444444444,
              "#bd3786"
             ],
             [
              0.5555555555555556,
              "#d8576b"
             ],
             [
              0.6666666666666666,
              "#ed7953"
             ],
             [
              0.7777777777777778,
              "#fb9f3a"
             ],
             [
              0.8888888888888888,
              "#fdca26"
             ],
             [
              1,
              "#f0f921"
             ]
            ],
            "type": "heatmapgl"
           }
          ],
          "histogram": [
           {
            "marker": {
             "pattern": {
              "fillmode": "overlay",
              "size": 10,
              "solidity": 0.2
             }
            },
            "type": "histogram"
           }
          ],
          "histogram2d": [
           {
            "colorbar": {
             "outlinewidth": 0,
             "ticks": ""
            },
            "colorscale": [
             [
              0,
              "#0d0887"
             ],
             [
              0.1111111111111111,
              "#46039f"
             ],
             [
              0.2222222222222222,
              "#7201a8"
             ],
             [
              0.3333333333333333,
              "#9c179e"
             ],
             [
              0.4444444444444444,
              "#bd3786"
             ],
             [
              0.5555555555555556,
              "#d8576b"
             ],
             [
              0.6666666666666666,
              "#ed7953"
             ],
             [
              0.7777777777777778,
              "#fb9f3a"
             ],
             [
              0.8888888888888888,
              "#fdca26"
             ],
             [
              1,
              "#f0f921"
             ]
            ],
            "type": "histogram2d"
           }
          ],
          "histogram2dcontour": [
           {
            "colorbar": {
             "outlinewidth": 0,
             "ticks": ""
            },
            "colorscale": [
             [
              0,
              "#0d0887"
             ],
             [
              0.1111111111111111,
              "#46039f"
             ],
             [
              0.2222222222222222,
              "#7201a8"
             ],
             [
              0.3333333333333333,
              "#9c179e"
             ],
             [
              0.4444444444444444,
              "#bd3786"
             ],
             [
              0.5555555555555556,
              "#d8576b"
             ],
             [
              0.6666666666666666,
              "#ed7953"
             ],
             [
              0.7777777777777778,
              "#fb9f3a"
             ],
             [
              0.8888888888888888,
              "#fdca26"
             ],
             [
              1,
              "#f0f921"
             ]
            ],
            "type": "histogram2dcontour"
           }
          ],
          "mesh3d": [
           {
            "colorbar": {
             "outlinewidth": 0,
             "ticks": ""
            },
            "type": "mesh3d"
           }
          ],
          "parcoords": [
           {
            "line": {
             "colorbar": {
              "outlinewidth": 0,
              "ticks": ""
             }
            },
            "type": "parcoords"
           }
          ],
          "pie": [
           {
            "automargin": true,
            "type": "pie"
           }
          ],
          "scatter": [
           {
            "fillpattern": {
             "fillmode": "overlay",
             "size": 10,
             "solidity": 0.2
            },
            "type": "scatter"
           }
          ],
          "scatter3d": [
           {
            "line": {
             "colorbar": {
              "outlinewidth": 0,
              "ticks": ""
             }
            },
            "marker": {
             "colorbar": {
              "outlinewidth": 0,
              "ticks": ""
             }
            },
            "type": "scatter3d"
           }
          ],
          "scattercarpet": [
           {
            "marker": {
             "colorbar": {
              "outlinewidth": 0,
              "ticks": ""
             }
            },
            "type": "scattercarpet"
           }
          ],
          "scattergeo": [
           {
            "marker": {
             "colorbar": {
              "outlinewidth": 0,
              "ticks": ""
             }
            },
            "type": "scattergeo"
           }
          ],
          "scattergl": [
           {
            "marker": {
             "colorbar": {
              "outlinewidth": 0,
              "ticks": ""
             }
            },
            "type": "scattergl"
           }
          ],
          "scattermapbox": [
           {
            "marker": {
             "colorbar": {
              "outlinewidth": 0,
              "ticks": ""
             }
            },
            "type": "scattermapbox"
           }
          ],
          "scatterpolar": [
           {
            "marker": {
             "colorbar": {
              "outlinewidth": 0,
              "ticks": ""
             }
            },
            "type": "scatterpolar"
           }
          ],
          "scatterpolargl": [
           {
            "marker": {
             "colorbar": {
              "outlinewidth": 0,
              "ticks": ""
             }
            },
            "type": "scatterpolargl"
           }
          ],
          "scatterternary": [
           {
            "marker": {
             "colorbar": {
              "outlinewidth": 0,
              "ticks": ""
             }
            },
            "type": "scatterternary"
           }
          ],
          "surface": [
           {
            "colorbar": {
             "outlinewidth": 0,
             "ticks": ""
            },
            "colorscale": [
             [
              0,
              "#0d0887"
             ],
             [
              0.1111111111111111,
              "#46039f"
             ],
             [
              0.2222222222222222,
              "#7201a8"
             ],
             [
              0.3333333333333333,
              "#9c179e"
             ],
             [
              0.4444444444444444,
              "#bd3786"
             ],
             [
              0.5555555555555556,
              "#d8576b"
             ],
             [
              0.6666666666666666,
              "#ed7953"
             ],
             [
              0.7777777777777778,
              "#fb9f3a"
             ],
             [
              0.8888888888888888,
              "#fdca26"
             ],
             [
              1,
              "#f0f921"
             ]
            ],
            "type": "surface"
           }
          ],
          "table": [
           {
            "cells": {
             "fill": {
              "color": "#EBF0F8"
             },
             "line": {
              "color": "white"
             }
            },
            "header": {
             "fill": {
              "color": "#C8D4E3"
             },
             "line": {
              "color": "white"
             }
            },
            "type": "table"
           }
          ]
         },
         "layout": {
          "annotationdefaults": {
           "arrowcolor": "#2a3f5f",
           "arrowhead": 0,
           "arrowwidth": 1
          },
          "autotypenumbers": "strict",
          "coloraxis": {
           "colorbar": {
            "outlinewidth": 0,
            "ticks": ""
           }
          },
          "colorscale": {
           "diverging": [
            [
             0,
             "#8e0152"
            ],
            [
             0.1,
             "#c51b7d"
            ],
            [
             0.2,
             "#de77ae"
            ],
            [
             0.3,
             "#f1b6da"
            ],
            [
             0.4,
             "#fde0ef"
            ],
            [
             0.5,
             "#f7f7f7"
            ],
            [
             0.6,
             "#e6f5d0"
            ],
            [
             0.7,
             "#b8e186"
            ],
            [
             0.8,
             "#7fbc41"
            ],
            [
             0.9,
             "#4d9221"
            ],
            [
             1,
             "#276419"
            ]
           ],
           "sequential": [
            [
             0,
             "#0d0887"
            ],
            [
             0.1111111111111111,
             "#46039f"
            ],
            [
             0.2222222222222222,
             "#7201a8"
            ],
            [
             0.3333333333333333,
             "#9c179e"
            ],
            [
             0.4444444444444444,
             "#bd3786"
            ],
            [
             0.5555555555555556,
             "#d8576b"
            ],
            [
             0.6666666666666666,
             "#ed7953"
            ],
            [
             0.7777777777777778,
             "#fb9f3a"
            ],
            [
             0.8888888888888888,
             "#fdca26"
            ],
            [
             1,
             "#f0f921"
            ]
           ],
           "sequentialminus": [
            [
             0,
             "#0d0887"
            ],
            [
             0.1111111111111111,
             "#46039f"
            ],
            [
             0.2222222222222222,
             "#7201a8"
            ],
            [
             0.3333333333333333,
             "#9c179e"
            ],
            [
             0.4444444444444444,
             "#bd3786"
            ],
            [
             0.5555555555555556,
             "#d8576b"
            ],
            [
             0.6666666666666666,
             "#ed7953"
            ],
            [
             0.7777777777777778,
             "#fb9f3a"
            ],
            [
             0.8888888888888888,
             "#fdca26"
            ],
            [
             1,
             "#f0f921"
            ]
           ]
          },
          "colorway": [
           "#636efa",
           "#EF553B",
           "#00cc96",
           "#ab63fa",
           "#FFA15A",
           "#19d3f3",
           "#FF6692",
           "#B6E880",
           "#FF97FF",
           "#FECB52"
          ],
          "font": {
           "color": "#2a3f5f"
          },
          "geo": {
           "bgcolor": "white",
           "lakecolor": "white",
           "landcolor": "#E5ECF6",
           "showlakes": true,
           "showland": true,
           "subunitcolor": "white"
          },
          "hoverlabel": {
           "align": "left"
          },
          "hovermode": "closest",
          "mapbox": {
           "style": "light"
          },
          "paper_bgcolor": "white",
          "plot_bgcolor": "#E5ECF6",
          "polar": {
           "angularaxis": {
            "gridcolor": "white",
            "linecolor": "white",
            "ticks": ""
           },
           "bgcolor": "#E5ECF6",
           "radialaxis": {
            "gridcolor": "white",
            "linecolor": "white",
            "ticks": ""
           }
          },
          "scene": {
           "xaxis": {
            "backgroundcolor": "#E5ECF6",
            "gridcolor": "white",
            "gridwidth": 2,
            "linecolor": "white",
            "showbackground": true,
            "ticks": "",
            "zerolinecolor": "white"
           },
           "yaxis": {
            "backgroundcolor": "#E5ECF6",
            "gridcolor": "white",
            "gridwidth": 2,
            "linecolor": "white",
            "showbackground": true,
            "ticks": "",
            "zerolinecolor": "white"
           },
           "zaxis": {
            "backgroundcolor": "#E5ECF6",
            "gridcolor": "white",
            "gridwidth": 2,
            "linecolor": "white",
            "showbackground": true,
            "ticks": "",
            "zerolinecolor": "white"
           }
          },
          "shapedefaults": {
           "line": {
            "color": "#2a3f5f"
           }
          },
          "ternary": {
           "aaxis": {
            "gridcolor": "white",
            "linecolor": "white",
            "ticks": ""
           },
           "baxis": {
            "gridcolor": "white",
            "linecolor": "white",
            "ticks": ""
           },
           "bgcolor": "#E5ECF6",
           "caxis": {
            "gridcolor": "white",
            "linecolor": "white",
            "ticks": ""
           }
          },
          "title": {
           "x": 0.05
          },
          "xaxis": {
           "automargin": true,
           "gridcolor": "white",
           "linecolor": "white",
           "ticks": "",
           "title": {
            "standoff": 15
           },
           "zerolinecolor": "white",
           "zerolinewidth": 2
          },
          "yaxis": {
           "automargin": true,
           "gridcolor": "white",
           "linecolor": "white",
           "ticks": "",
           "title": {
            "standoff": 15
           },
           "zerolinecolor": "white",
           "zerolinewidth": 2
          }
         }
        },
        "xaxis": {
         "rangeslider": {
          "visible": false
         }
        }
       }
      }
     },
     "metadata": {},
     "output_type": "display_data"
    }
   ],
   "source": [
    "fig = go.Figure(data=[go.Candlestick(x=df['date'],\n",
    "                open=df['open'],\n",
    "                high=df['high'],\n",
    "                low=df['low'],\n",
    "                close=df['close'])])\n",
    "\n",
    "fig.update_layout(xaxis_rangeslider_visible=False)\n",
    "fig.show()"
   ]
  }
 ],
 "metadata": {
  "kernelspec": {
   "display_name": "test",
   "language": "python",
   "name": "python3"
  },
  "language_info": {
   "codemirror_mode": {
    "name": "ipython",
    "version": 3
   },
   "file_extension": ".py",
   "mimetype": "text/x-python",
   "name": "python",
   "nbconvert_exporter": "python",
   "pygments_lexer": "ipython3",
   "version": "3.11.10"
  }
 },
 "nbformat": 4,
 "nbformat_minor": 2
}
