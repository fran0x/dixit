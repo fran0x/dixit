{
 "cells": [
  {
   "cell_type": "code",
   "execution_count": 1,
   "metadata": {},
   "outputs": [],
   "source": [
    "import pandas as pd\n",
    "import numpy as np\n",
    "import plotly.express as px\n",
    "import plotly.graph_objects as go"
   ]
  },
  {
   "cell_type": "code",
   "execution_count": 2,
   "metadata": {},
   "outputs": [],
   "source": [
    "import os\n",
    "\n",
    "from dotenv import load_dotenv\n",
    "load_dotenv()\n",
    "\n",
    "CRYPTOCOMPARE_API_KEY = os.getenv('CRYPTOCOMPARE_API_KEY')"
   ]
  },
  {
   "cell_type": "code",
   "execution_count": 3,
   "metadata": {},
   "outputs": [
    {
     "data": {
      "text/html": [
       "<div>\n",
       "<style scoped>\n",
       "    .dataframe tbody tr th:only-of-type {\n",
       "        vertical-align: middle;\n",
       "    }\n",
       "\n",
       "    .dataframe tbody tr th {\n",
       "        vertical-align: top;\n",
       "    }\n",
       "\n",
       "    .dataframe thead th {\n",
       "        text-align: right;\n",
       "    }\n",
       "</style>\n",
       "<table border=\"1\" class=\"dataframe\">\n",
       "  <thead>\n",
       "    <tr style=\"text-align: right;\">\n",
       "      <th></th>\n",
       "      <th>channel</th>\n",
       "      <th>maker_order_id</th>\n",
       "      <th>taker_order_id</th>\n",
       "      <th>time</th>\n",
       "      <th>trade_id</th>\n",
       "      <th>product_id</th>\n",
       "      <th>size</th>\n",
       "      <th>price</th>\n",
       "      <th>side</th>\n",
       "      <th>base_asset</th>\n",
       "      <th>quote_asset</th>\n",
       "    </tr>\n",
       "  </thead>\n",
       "  <tbody>\n",
       "    <tr>\n",
       "      <th>0</th>\n",
       "      <td>rfq_match</td>\n",
       "      <td>5f1e264a-7760-11ef-a477-d92110f0c78d</td>\n",
       "      <td>0beb0c17-a649-4495-8256-aa327d1b6866</td>\n",
       "      <td>2024-09-20 14:55:27.044000+00:00</td>\n",
       "      <td>42539746</td>\n",
       "      <td>ETH-EUR</td>\n",
       "      <td>0.000723</td>\n",
       "      <td>2282.931149</td>\n",
       "      <td>SELL</td>\n",
       "      <td>ETH</td>\n",
       "      <td>EUR</td>\n",
       "    </tr>\n",
       "    <tr>\n",
       "      <th>1</th>\n",
       "      <td>rfq_match</td>\n",
       "      <td>5f217b1a-7760-11ef-b6e0-37be7b1a0976</td>\n",
       "      <td>827c80b5-28af-47f9-ad05-7028f943b00e</td>\n",
       "      <td>2024-09-20 14:55:27.093000+00:00</td>\n",
       "      <td>42539747</td>\n",
       "      <td>ALGO-USD</td>\n",
       "      <td>460.000000</td>\n",
       "      <td>0.132695</td>\n",
       "      <td>SELL</td>\n",
       "      <td>ALGO</td>\n",
       "      <td>USD</td>\n",
       "    </tr>\n",
       "    <tr>\n",
       "      <th>2</th>\n",
       "      <td>rfq_match</td>\n",
       "      <td>05550d9f-adb0-4f8c-bf84-ec7cd367bfe6</td>\n",
       "      <td>5fb514b8-b665-4c7b-8da7-15d4f51154f4</td>\n",
       "      <td>2024-09-20 14:55:27.138000+00:00</td>\n",
       "      <td>42539748</td>\n",
       "      <td>NEAR-USD</td>\n",
       "      <td>0.341142</td>\n",
       "      <td>4.385000</td>\n",
       "      <td>SELL</td>\n",
       "      <td>NEAR</td>\n",
       "      <td>USD</td>\n",
       "    </tr>\n",
       "    <tr>\n",
       "      <th>3</th>\n",
       "      <td>rfq_match</td>\n",
       "      <td>5f62a2fe-7760-11ef-b94a-97e1fbc68bb9</td>\n",
       "      <td>cdc3b641-6f63-48b9-a9a0-eb54a2e6c306</td>\n",
       "      <td>2024-09-20 14:55:27.521000+00:00</td>\n",
       "      <td>42539749</td>\n",
       "      <td>ETH-EUR</td>\n",
       "      <td>0.016277</td>\n",
       "      <td>2282.937020</td>\n",
       "      <td>SELL</td>\n",
       "      <td>ETH</td>\n",
       "      <td>EUR</td>\n",
       "    </tr>\n",
       "    <tr>\n",
       "      <th>4</th>\n",
       "      <td>rfq_match</td>\n",
       "      <td>f833b019-c901-4fc1-b155-b8ad8d8c7a2d</td>\n",
       "      <td>81fdac3a-f17c-49b3-9d7a-bc5084cbaa95</td>\n",
       "      <td>2024-09-20 14:55:28.473000+00:00</td>\n",
       "      <td>42539750</td>\n",
       "      <td>ALGO-USD</td>\n",
       "      <td>9.350885</td>\n",
       "      <td>0.132800</td>\n",
       "      <td>BUY</td>\n",
       "      <td>ALGO</td>\n",
       "      <td>USD</td>\n",
       "    </tr>\n",
       "  </tbody>\n",
       "</table>\n",
       "</div>"
      ],
      "text/plain": [
       "     channel                        maker_order_id  \\\n",
       "0  rfq_match  5f1e264a-7760-11ef-a477-d92110f0c78d   \n",
       "1  rfq_match  5f217b1a-7760-11ef-b6e0-37be7b1a0976   \n",
       "2  rfq_match  05550d9f-adb0-4f8c-bf84-ec7cd367bfe6   \n",
       "3  rfq_match  5f62a2fe-7760-11ef-b94a-97e1fbc68bb9   \n",
       "4  rfq_match  f833b019-c901-4fc1-b155-b8ad8d8c7a2d   \n",
       "\n",
       "                         taker_order_id                             time  \\\n",
       "0  0beb0c17-a649-4495-8256-aa327d1b6866 2024-09-20 14:55:27.044000+00:00   \n",
       "1  827c80b5-28af-47f9-ad05-7028f943b00e 2024-09-20 14:55:27.093000+00:00   \n",
       "2  5fb514b8-b665-4c7b-8da7-15d4f51154f4 2024-09-20 14:55:27.138000+00:00   \n",
       "3  cdc3b641-6f63-48b9-a9a0-eb54a2e6c306 2024-09-20 14:55:27.521000+00:00   \n",
       "4  81fdac3a-f17c-49b3-9d7a-bc5084cbaa95 2024-09-20 14:55:28.473000+00:00   \n",
       "\n",
       "   trade_id product_id        size        price  side base_asset quote_asset  \n",
       "0  42539746    ETH-EUR    0.000723  2282.931149  SELL        ETH         EUR  \n",
       "1  42539747   ALGO-USD  460.000000     0.132695  SELL       ALGO         USD  \n",
       "2  42539748   NEAR-USD    0.341142     4.385000  SELL       NEAR         USD  \n",
       "3  42539749    ETH-EUR    0.016277  2282.937020  SELL        ETH         EUR  \n",
       "4  42539750   ALGO-USD    9.350885     0.132800   BUY       ALGO         USD  "
      ]
     },
     "execution_count": 3,
     "metadata": {},
     "output_type": "execute_result"
    }
   ],
   "source": [
    "df = pd.read_parquet('coinbase.parquet', engine='pyarrow')\n",
    "df['time'] = pd.to_datetime(df['time'])\n",
    "df[['base_asset', 'quote_asset']] = df['product_id'].str.split('-', expand=True)\n",
    "df.head()"
   ]
  },
  {
   "cell_type": "code",
   "execution_count": 4,
   "metadata": {},
   "outputs": [
    {
     "name": "stdout",
     "output_type": "stream",
     "text": [
      "Base Assets: ['ETH' 'ALGO' 'NEAR' 'XRP' 'HBAR' 'VELO' 'XLM' 'COMP' 'GTC' 'ATOM' 'DOT'\n",
      " 'ADA' 'SHIB' 'XTZ' 'AVAX' 'YFI' 'FLOW' 'BTC' 'KSM' 'SOL' 'ACH' 'ETC'\n",
      " 'SPA' 'ANKR' 'VET' 'APT' 'MATIC' 'AMP' 'RARI' 'TIA' 'ICP' 'COTI' 'GRT'\n",
      " 'AERO' 'JASMY' 'HNT' 'TRAC' 'BONK' 'GST' 'LTC' 'MANA' 'CLV' 'MPL' 'SPELL'\n",
      " 'AAVE' 'QNT' 'MEDIA' 'PRO' 'SUI' 'VARA' 'MOBILE' 'BIT' 'FET' 'CRO' 'LRC'\n",
      " 'DOGE' 'BCH' 'SEI' 'JTO' 'SAND' 'SUSHI' 'OP' 'MAGIC' 'ACS' 'ROSE' 'FX'\n",
      " 'LDO' 'HIGH' 'SUKU' 'XYO' 'AGLD' 'ALEPH' 'DESO' 'UMA' 'IMX' 'CBETH'\n",
      " 'OCEAN' 'EOS' 'FIL' 'ERN' 'FORTH' 'TVK' 'INV' 'LINK' '00' 'METIS' 'MKR'\n",
      " 'KARRAT' 'QI' 'SHPING' 'APE' 'ELA' 'SWFTC' 'AIOZ' 'ABT' 'BNT']\n",
      "Quote Assets: ['EUR' 'USD' 'SOL' 'USDC' 'LTC' 'GRT' 'JASMY' 'GBP' 'ETH' 'UMA' 'SHIB'\n",
      " 'NEAR' 'DNT' 'BTC' 'LQTY' 'ZRX' 'ATOM' 'XRP' 'COMP' 'USDT' 'VTHO' 'BCH'\n",
      " 'DOT' 'VARA' 'DOGE' 'FET' 'GTC' 'XCN' 'XTZ' 'HIGH' 'UNI' 'ICP' 'T' 'SUI'\n",
      " 'MEDIA' 'SPELL' 'XLM' 'ERN' 'OP' 'LCX' 'AVAX' 'XYO' 'LINK' 'MANA' 'CRO']\n",
      "Time Range: 2024-09-20 14:55:27.044000+00:00 to 2024-09-20 15:05:27.860000+00:00\n",
      "Start Timestamp: 1726844127\n"
     ]
    }
   ],
   "source": [
    "base_assets = df['base_asset'].unique()\n",
    "quote_assets = df['quote_asset'].unique()\n",
    "start_time = df['time'].min()\n",
    "end_time = df['time'].max()\n",
    "start_timestamp = int(start_time.timestamp())\n",
    "\n",
    "print(\"Base Assets:\", base_assets)\n",
    "print(\"Quote Assets:\", quote_assets)\n",
    "print(f\"Time Range: {start_time} to {end_time}\")\n",
    "print(\"Start Timestamp:\", start_timestamp)"
   ]
  },
  {
   "cell_type": "code",
   "execution_count": 5,
   "metadata": {},
   "outputs": [
    {
     "data": {
      "text/plain": [
       "'&api_key=c574328a6b54aecfc6ff5761915d8225cd53c4355ff83a50cfc5b28206793722'"
      ]
     },
     "execution_count": 5,
     "metadata": {},
     "output_type": "execute_result"
    }
   ],
   "source": [
    "import cryptocompare\n",
    "cryptocompare.cryptocompare._set_api_key_parameter(CRYPTOCOMPARE_API_KEY)"
   ]
  },
  {
   "cell_type": "code",
   "execution_count": 25,
   "metadata": {},
   "outputs": [
    {
     "name": "stdout",
     "output_type": "stream",
     "text": [
      "[ERROR] CCCAGG market does not exist for this coin pair (ERN-USD)\n",
      "no data for {asset}\n"
     ]
    }
   ],
   "source": [
    "def compute_price(asset_ohlc):\n",
    "    return (asset_ohlc['high'] + asset_ohlc['low'] + 2 * asset_ohlc['close']) / 4\n",
    "\n",
    "asset_prices = {}\n",
    "\n",
    "for asset in quote_assets:\n",
    "    raw_price = cryptocompare.get_historical_price_day(asset, 'USD', limit=1, toTs=start_timestamp)\n",
    "    if not raw_price:\n",
    "        print('no data for {asset}')\n",
    "        asset_prices[asset] = np.float64(0.0)\n",
    "    else:\n",
    "        asset_ohlc = pd.DataFrame.from_dict(raw_price).tail(1)\n",
    "        asset_price = compute_price(asset_ohlc.iloc[0])\n",
    "        \n",
    "        asset_prices[asset] = asset_price"
   ]
  },
  {
   "cell_type": "code",
   "execution_count": 27,
   "metadata": {},
   "outputs": [],
   "source": [
    "grouped = df.groupby([pd.Grouper(key='time', freq='min'), 'product_id', 'quote_asset']).agg(\n",
    "    total_quantity=('size', 'sum'),\n",
    "    avg_quote_price=('price', 'mean'),\n",
    "    total_trades=('trade_id', 'count')\n",
    ").reset_index()"
   ]
  },
  {
   "cell_type": "code",
   "execution_count": 28,
   "metadata": {},
   "outputs": [
    {
     "data": {
      "application/vnd.plotly.v1+json": {
       "config": {
        "plotlyServerURL": "https://plot.ly"
       },
       "data": [
        {
         "alignmentgroup": "True",
         "hovertemplate": "product_id=ALGO-USD<br>time=%{x}<br>total_trades=%{y}<extra></extra>",
         "legendgroup": "ALGO-USD",
         "marker": {
          "color": "#636efa",
          "pattern": {
           "shape": ""
          }
         },
         "name": "ALGO-USD",
         "offsetgroup": "ALGO-USD",
         "orientation": "v",
         "showlegend": true,
         "textposition": "auto",
         "type": "bar",
         "x": [
          "2024-09-20T14:55:00+00:00",
          "2024-09-20T14:56:00+00:00",
          "2024-09-20T14:57:00+00:00",
          "2024-09-20T14:58:00+00:00",
          "2024-09-20T14:59:00+00:00",
          "2024-09-20T15:00:00+00:00",
          "2024-09-20T15:01:00+00:00",
          "2024-09-20T15:02:00+00:00",
          "2024-09-20T15:03:00+00:00",
          "2024-09-20T15:04:00+00:00",
          "2024-09-20T15:05:00+00:00"
         ],
         "xaxis": "x",
         "y": [
          22,
          42,
          38,
          34,
          48,
          32,
          43,
          37,
          33,
          42,
          17
         ],
         "yaxis": "y"
        },
        {
         "alignmentgroup": "True",
         "hovertemplate": "product_id=ALGO-USDC<br>time=%{x}<br>total_trades=%{y}<extra></extra>",
         "legendgroup": "ALGO-USDC",
         "marker": {
          "color": "#EF553B",
          "pattern": {
           "shape": ""
          }
         },
         "name": "ALGO-USDC",
         "offsetgroup": "ALGO-USDC",
         "orientation": "v",
         "showlegend": true,
         "textposition": "auto",
         "type": "bar",
         "x": [
          "2024-09-20T14:55:00+00:00",
          "2024-09-20T14:56:00+00:00",
          "2024-09-20T14:59:00+00:00",
          "2024-09-20T15:02:00+00:00",
          "2024-09-20T15:03:00+00:00",
          "2024-09-20T15:04:00+00:00",
          "2024-09-20T15:05:00+00:00"
         ],
         "xaxis": "x",
         "y": [
          5,
          8,
          5,
          7,
          10,
          7,
          5
         ],
         "yaxis": "y"
        },
        {
         "alignmentgroup": "True",
         "hovertemplate": "product_id=BTC-USD<br>time=%{x}<br>total_trades=%{y}<extra></extra>",
         "legendgroup": "BTC-USD",
         "marker": {
          "color": "#00cc96",
          "pattern": {
           "shape": ""
          }
         },
         "name": "BTC-USD",
         "offsetgroup": "BTC-USD",
         "orientation": "v",
         "showlegend": true,
         "textposition": "auto",
         "type": "bar",
         "x": [
          "2024-09-20T14:55:00+00:00",
          "2024-09-20T14:59:00+00:00",
          "2024-09-20T15:00:00+00:00",
          "2024-09-20T15:01:00+00:00",
          "2024-09-20T15:02:00+00:00",
          "2024-09-20T15:04:00+00:00"
         ],
         "xaxis": "x",
         "y": [
          3,
          4,
          4,
          3,
          7,
          9
         ],
         "yaxis": "y"
        },
        {
         "alignmentgroup": "True",
         "hovertemplate": "product_id=ETH-USD<br>time=%{x}<br>total_trades=%{y}<extra></extra>",
         "legendgroup": "ETH-USD",
         "marker": {
          "color": "#ab63fa",
          "pattern": {
           "shape": ""
          }
         },
         "name": "ETH-USD",
         "offsetgroup": "ETH-USD",
         "orientation": "v",
         "showlegend": true,
         "textposition": "auto",
         "type": "bar",
         "x": [
          "2024-09-20T14:55:00+00:00",
          "2024-09-20T14:56:00+00:00",
          "2024-09-20T14:57:00+00:00",
          "2024-09-20T15:01:00+00:00",
          "2024-09-20T15:02:00+00:00",
          "2024-09-20T15:03:00+00:00",
          "2024-09-20T15:04:00+00:00"
         ],
         "xaxis": "x",
         "y": [
          3,
          5,
          8,
          7,
          9,
          9,
          8
         ],
         "yaxis": "y"
        },
        {
         "alignmentgroup": "True",
         "hovertemplate": "product_id=ADA-USD<br>time=%{x}<br>total_trades=%{y}<extra></extra>",
         "legendgroup": "ADA-USD",
         "marker": {
          "color": "#FFA15A",
          "pattern": {
           "shape": ""
          }
         },
         "name": "ADA-USD",
         "offsetgroup": "ADA-USD",
         "orientation": "v",
         "showlegend": true,
         "textposition": "auto",
         "type": "bar",
         "x": [
          "2024-09-20T14:55:00+00:00",
          "2024-09-20T15:00:00+00:00",
          "2024-09-20T15:02:00+00:00"
         ],
         "xaxis": "x",
         "y": [
          2,
          4,
          6
         ],
         "yaxis": "y"
        },
        {
         "alignmentgroup": "True",
         "hovertemplate": "product_id=BTC-EUR<br>time=%{x}<br>total_trades=%{y}<extra></extra>",
         "legendgroup": "BTC-EUR",
         "marker": {
          "color": "#19d3f3",
          "pattern": {
           "shape": ""
          }
         },
         "name": "BTC-EUR",
         "offsetgroup": "BTC-EUR",
         "orientation": "v",
         "showlegend": true,
         "textposition": "auto",
         "type": "bar",
         "x": [
          "2024-09-20T14:56:00+00:00"
         ],
         "xaxis": "x",
         "y": [
          5
         ],
         "yaxis": "y"
        },
        {
         "alignmentgroup": "True",
         "hovertemplate": "product_id=ETH-EUR<br>time=%{x}<br>total_trades=%{y}<extra></extra>",
         "legendgroup": "ETH-EUR",
         "marker": {
          "color": "#FF6692",
          "pattern": {
           "shape": ""
          }
         },
         "name": "ETH-EUR",
         "offsetgroup": "ETH-EUR",
         "orientation": "v",
         "showlegend": true,
         "textposition": "auto",
         "type": "bar",
         "x": [
          "2024-09-20T14:56:00+00:00",
          "2024-09-20T15:05:00+00:00"
         ],
         "xaxis": "x",
         "y": [
          5,
          4
         ],
         "yaxis": "y"
        },
        {
         "alignmentgroup": "True",
         "hovertemplate": "product_id=XRP-USD<br>time=%{x}<br>total_trades=%{y}<extra></extra>",
         "legendgroup": "XRP-USD",
         "marker": {
          "color": "#B6E880",
          "pattern": {
           "shape": ""
          }
         },
         "name": "XRP-USD",
         "offsetgroup": "XRP-USD",
         "orientation": "v",
         "showlegend": true,
         "textposition": "auto",
         "type": "bar",
         "x": [
          "2024-09-20T14:57:00+00:00",
          "2024-09-20T14:58:00+00:00",
          "2024-09-20T15:03:00+00:00"
         ],
         "xaxis": "x",
         "y": [
          9,
          4,
          5
         ],
         "yaxis": "y"
        },
        {
         "alignmentgroup": "True",
         "hovertemplate": "product_id=BTC-GBP<br>time=%{x}<br>total_trades=%{y}<extra></extra>",
         "legendgroup": "BTC-GBP",
         "marker": {
          "color": "#FF97FF",
          "pattern": {
           "shape": ""
          }
         },
         "name": "BTC-GBP",
         "offsetgroup": "BTC-GBP",
         "orientation": "v",
         "showlegend": true,
         "textposition": "auto",
         "type": "bar",
         "x": [
          "2024-09-20T14:57:00+00:00",
          "2024-09-20T14:58:00+00:00"
         ],
         "xaxis": "x",
         "y": [
          5,
          3
         ],
         "yaxis": "y"
        },
        {
         "alignmentgroup": "True",
         "hovertemplate": "product_id=ALGO-ETH<br>time=%{x}<br>total_trades=%{y}<extra></extra>",
         "legendgroup": "ALGO-ETH",
         "marker": {
          "color": "#FECB52",
          "pattern": {
           "shape": ""
          }
         },
         "name": "ALGO-ETH",
         "offsetgroup": "ALGO-ETH",
         "orientation": "v",
         "showlegend": true,
         "textposition": "auto",
         "type": "bar",
         "x": [
          "2024-09-20T14:57:00+00:00",
          "2024-09-20T14:58:00+00:00",
          "2024-09-20T14:59:00+00:00",
          "2024-09-20T15:01:00+00:00"
         ],
         "xaxis": "x",
         "y": [
          4,
          6,
          4,
          3
         ],
         "yaxis": "y"
        },
        {
         "alignmentgroup": "True",
         "hovertemplate": "product_id=SHIB-USD<br>time=%{x}<br>total_trades=%{y}<extra></extra>",
         "legendgroup": "SHIB-USD",
         "marker": {
          "color": "#636efa",
          "pattern": {
           "shape": ""
          }
         },
         "name": "SHIB-USD",
         "offsetgroup": "SHIB-USD",
         "orientation": "v",
         "showlegend": true,
         "textposition": "auto",
         "type": "bar",
         "x": [
          "2024-09-20T14:58:00+00:00",
          "2024-09-20T15:03:00+00:00"
         ],
         "xaxis": "x",
         "y": [
          8,
          9
         ],
         "yaxis": "y"
        },
        {
         "alignmentgroup": "True",
         "hovertemplate": "product_id=SOL-EUR<br>time=%{x}<br>total_trades=%{y}<extra></extra>",
         "legendgroup": "SOL-EUR",
         "marker": {
          "color": "#EF553B",
          "pattern": {
           "shape": ""
          }
         },
         "name": "SOL-EUR",
         "offsetgroup": "SOL-EUR",
         "orientation": "v",
         "showlegend": true,
         "textposition": "auto",
         "type": "bar",
         "x": [
          "2024-09-20T14:59:00+00:00"
         ],
         "xaxis": "x",
         "y": [
          4
         ],
         "yaxis": "y"
        },
        {
         "alignmentgroup": "True",
         "hovertemplate": "product_id=ALGO-EUR<br>time=%{x}<br>total_trades=%{y}<extra></extra>",
         "legendgroup": "ALGO-EUR",
         "marker": {
          "color": "#00cc96",
          "pattern": {
           "shape": ""
          }
         },
         "name": "ALGO-EUR",
         "offsetgroup": "ALGO-EUR",
         "orientation": "v",
         "showlegend": true,
         "textposition": "auto",
         "type": "bar",
         "x": [
          "2024-09-20T15:00:00+00:00",
          "2024-09-20T15:01:00+00:00"
         ],
         "xaxis": "x",
         "y": [
          4,
          7
         ],
         "yaxis": "y"
        },
        {
         "alignmentgroup": "True",
         "hovertemplate": "product_id=NEAR-USD<br>time=%{x}<br>total_trades=%{y}<extra></extra>",
         "legendgroup": "NEAR-USD",
         "marker": {
          "color": "#ab63fa",
          "pattern": {
           "shape": ""
          }
         },
         "name": "NEAR-USD",
         "offsetgroup": "NEAR-USD",
         "orientation": "v",
         "showlegend": true,
         "textposition": "auto",
         "type": "bar",
         "x": [
          "2024-09-20T15:00:00+00:00"
         ],
         "xaxis": "x",
         "y": [
          4
         ],
         "yaxis": "y"
        },
        {
         "alignmentgroup": "True",
         "hovertemplate": "product_id=ALGO-BTC<br>time=%{x}<br>total_trades=%{y}<extra></extra>",
         "legendgroup": "ALGO-BTC",
         "marker": {
          "color": "#FFA15A",
          "pattern": {
           "shape": ""
          }
         },
         "name": "ALGO-BTC",
         "offsetgroup": "ALGO-BTC",
         "orientation": "v",
         "showlegend": true,
         "textposition": "auto",
         "type": "bar",
         "x": [
          "2024-09-20T15:04:00+00:00"
         ],
         "xaxis": "x",
         "y": [
          6
         ],
         "yaxis": "y"
        },
        {
         "alignmentgroup": "True",
         "hovertemplate": "product_id=ALGO-LTC<br>time=%{x}<br>total_trades=%{y}<extra></extra>",
         "legendgroup": "ALGO-LTC",
         "marker": {
          "color": "#19d3f3",
          "pattern": {
           "shape": ""
          }
         },
         "name": "ALGO-LTC",
         "offsetgroup": "ALGO-LTC",
         "orientation": "v",
         "showlegend": true,
         "textposition": "auto",
         "type": "bar",
         "x": [
          "2024-09-20T15:05:00+00:00"
         ],
         "xaxis": "x",
         "y": [
          3
         ],
         "yaxis": "y"
        },
        {
         "alignmentgroup": "True",
         "hovertemplate": "product_id=BCH-USD<br>time=%{x}<br>total_trades=%{y}<extra></extra>",
         "legendgroup": "BCH-USD",
         "marker": {
          "color": "#FF6692",
          "pattern": {
           "shape": ""
          }
         },
         "name": "BCH-USD",
         "offsetgroup": "BCH-USD",
         "orientation": "v",
         "showlegend": true,
         "textposition": "auto",
         "type": "bar",
         "x": [
          "2024-09-20T15:05:00+00:00"
         ],
         "xaxis": "x",
         "y": [
          3
         ],
         "yaxis": "y"
        }
       ],
       "layout": {
        "barmode": "relative",
        "legend": {
         "title": {
          "text": "product_id"
         },
         "tracegroupgap": 0
        },
        "template": {
         "data": {
          "bar": [
           {
            "error_x": {
             "color": "#2a3f5f"
            },
            "error_y": {
             "color": "#2a3f5f"
            },
            "marker": {
             "line": {
              "color": "#E5ECF6",
              "width": 0.5
             },
             "pattern": {
              "fillmode": "overlay",
              "size": 10,
              "solidity": 0.2
             }
            },
            "type": "bar"
           }
          ],
          "barpolar": [
           {
            "marker": {
             "line": {
              "color": "#E5ECF6",
              "width": 0.5
             },
             "pattern": {
              "fillmode": "overlay",
              "size": 10,
              "solidity": 0.2
             }
            },
            "type": "barpolar"
           }
          ],
          "carpet": [
           {
            "aaxis": {
             "endlinecolor": "#2a3f5f",
             "gridcolor": "white",
             "linecolor": "white",
             "minorgridcolor": "white",
             "startlinecolor": "#2a3f5f"
            },
            "baxis": {
             "endlinecolor": "#2a3f5f",
             "gridcolor": "white",
             "linecolor": "white",
             "minorgridcolor": "white",
             "startlinecolor": "#2a3f5f"
            },
            "type": "carpet"
           }
          ],
          "choropleth": [
           {
            "colorbar": {
             "outlinewidth": 0,
             "ticks": ""
            },
            "type": "choropleth"
           }
          ],
          "contour": [
           {
            "colorbar": {
             "outlinewidth": 0,
             "ticks": ""
            },
            "colorscale": [
             [
              0,
              "#0d0887"
             ],
             [
              0.1111111111111111,
              "#46039f"
             ],
             [
              0.2222222222222222,
              "#7201a8"
             ],
             [
              0.3333333333333333,
              "#9c179e"
             ],
             [
              0.4444444444444444,
              "#bd3786"
             ],
             [
              0.5555555555555556,
              "#d8576b"
             ],
             [
              0.6666666666666666,
              "#ed7953"
             ],
             [
              0.7777777777777778,
              "#fb9f3a"
             ],
             [
              0.8888888888888888,
              "#fdca26"
             ],
             [
              1,
              "#f0f921"
             ]
            ],
            "type": "contour"
           }
          ],
          "contourcarpet": [
           {
            "colorbar": {
             "outlinewidth": 0,
             "ticks": ""
            },
            "type": "contourcarpet"
           }
          ],
          "heatmap": [
           {
            "colorbar": {
             "outlinewidth": 0,
             "ticks": ""
            },
            "colorscale": [
             [
              0,
              "#0d0887"
             ],
             [
              0.1111111111111111,
              "#46039f"
             ],
             [
              0.2222222222222222,
              "#7201a8"
             ],
             [
              0.3333333333333333,
              "#9c179e"
             ],
             [
              0.4444444444444444,
              "#bd3786"
             ],
             [
              0.5555555555555556,
              "#d8576b"
             ],
             [
              0.6666666666666666,
              "#ed7953"
             ],
             [
              0.7777777777777778,
              "#fb9f3a"
             ],
             [
              0.8888888888888888,
              "#fdca26"
             ],
             [
              1,
              "#f0f921"
             ]
            ],
            "type": "heatmap"
           }
          ],
          "heatmapgl": [
           {
            "colorbar": {
             "outlinewidth": 0,
             "ticks": ""
            },
            "colorscale": [
             [
              0,
              "#0d0887"
             ],
             [
              0.1111111111111111,
              "#46039f"
             ],
             [
              0.2222222222222222,
              "#7201a8"
             ],
             [
              0.3333333333333333,
              "#9c179e"
             ],
             [
              0.4444444444444444,
              "#bd3786"
             ],
             [
              0.5555555555555556,
              "#d8576b"
             ],
             [
              0.6666666666666666,
              "#ed7953"
             ],
             [
              0.7777777777777778,
              "#fb9f3a"
             ],
             [
              0.8888888888888888,
              "#fdca26"
             ],
             [
              1,
              "#f0f921"
             ]
            ],
            "type": "heatmapgl"
           }
          ],
          "histogram": [
           {
            "marker": {
             "pattern": {
              "fillmode": "overlay",
              "size": 10,
              "solidity": 0.2
             }
            },
            "type": "histogram"
           }
          ],
          "histogram2d": [
           {
            "colorbar": {
             "outlinewidth": 0,
             "ticks": ""
            },
            "colorscale": [
             [
              0,
              "#0d0887"
             ],
             [
              0.1111111111111111,
              "#46039f"
             ],
             [
              0.2222222222222222,
              "#7201a8"
             ],
             [
              0.3333333333333333,
              "#9c179e"
             ],
             [
              0.4444444444444444,
              "#bd3786"
             ],
             [
              0.5555555555555556,
              "#d8576b"
             ],
             [
              0.6666666666666666,
              "#ed7953"
             ],
             [
              0.7777777777777778,
              "#fb9f3a"
             ],
             [
              0.8888888888888888,
              "#fdca26"
             ],
             [
              1,
              "#f0f921"
             ]
            ],
            "type": "histogram2d"
           }
          ],
          "histogram2dcontour": [
           {
            "colorbar": {
             "outlinewidth": 0,
             "ticks": ""
            },
            "colorscale": [
             [
              0,
              "#0d0887"
             ],
             [
              0.1111111111111111,
              "#46039f"
             ],
             [
              0.2222222222222222,
              "#7201a8"
             ],
             [
              0.3333333333333333,
              "#9c179e"
             ],
             [
              0.4444444444444444,
              "#bd3786"
             ],
             [
              0.5555555555555556,
              "#d8576b"
             ],
             [
              0.6666666666666666,
              "#ed7953"
             ],
             [
              0.7777777777777778,
              "#fb9f3a"
             ],
             [
              0.8888888888888888,
              "#fdca26"
             ],
             [
              1,
              "#f0f921"
             ]
            ],
            "type": "histogram2dcontour"
           }
          ],
          "mesh3d": [
           {
            "colorbar": {
             "outlinewidth": 0,
             "ticks": ""
            },
            "type": "mesh3d"
           }
          ],
          "parcoords": [
           {
            "line": {
             "colorbar": {
              "outlinewidth": 0,
              "ticks": ""
             }
            },
            "type": "parcoords"
           }
          ],
          "pie": [
           {
            "automargin": true,
            "type": "pie"
           }
          ],
          "scatter": [
           {
            "fillpattern": {
             "fillmode": "overlay",
             "size": 10,
             "solidity": 0.2
            },
            "type": "scatter"
           }
          ],
          "scatter3d": [
           {
            "line": {
             "colorbar": {
              "outlinewidth": 0,
              "ticks": ""
             }
            },
            "marker": {
             "colorbar": {
              "outlinewidth": 0,
              "ticks": ""
             }
            },
            "type": "scatter3d"
           }
          ],
          "scattercarpet": [
           {
            "marker": {
             "colorbar": {
              "outlinewidth": 0,
              "ticks": ""
             }
            },
            "type": "scattercarpet"
           }
          ],
          "scattergeo": [
           {
            "marker": {
             "colorbar": {
              "outlinewidth": 0,
              "ticks": ""
             }
            },
            "type": "scattergeo"
           }
          ],
          "scattergl": [
           {
            "marker": {
             "colorbar": {
              "outlinewidth": 0,
              "ticks": ""
             }
            },
            "type": "scattergl"
           }
          ],
          "scattermapbox": [
           {
            "marker": {
             "colorbar": {
              "outlinewidth": 0,
              "ticks": ""
             }
            },
            "type": "scattermapbox"
           }
          ],
          "scatterpolar": [
           {
            "marker": {
             "colorbar": {
              "outlinewidth": 0,
              "ticks": ""
             }
            },
            "type": "scatterpolar"
           }
          ],
          "scatterpolargl": [
           {
            "marker": {
             "colorbar": {
              "outlinewidth": 0,
              "ticks": ""
             }
            },
            "type": "scatterpolargl"
           }
          ],
          "scatterternary": [
           {
            "marker": {
             "colorbar": {
              "outlinewidth": 0,
              "ticks": ""
             }
            },
            "type": "scatterternary"
           }
          ],
          "surface": [
           {
            "colorbar": {
             "outlinewidth": 0,
             "ticks": ""
            },
            "colorscale": [
             [
              0,
              "#0d0887"
             ],
             [
              0.1111111111111111,
              "#46039f"
             ],
             [
              0.2222222222222222,
              "#7201a8"
             ],
             [
              0.3333333333333333,
              "#9c179e"
             ],
             [
              0.4444444444444444,
              "#bd3786"
             ],
             [
              0.5555555555555556,
              "#d8576b"
             ],
             [
              0.6666666666666666,
              "#ed7953"
             ],
             [
              0.7777777777777778,
              "#fb9f3a"
             ],
             [
              0.8888888888888888,
              "#fdca26"
             ],
             [
              1,
              "#f0f921"
             ]
            ],
            "type": "surface"
           }
          ],
          "table": [
           {
            "cells": {
             "fill": {
              "color": "#EBF0F8"
             },
             "line": {
              "color": "white"
             }
            },
            "header": {
             "fill": {
              "color": "#C8D4E3"
             },
             "line": {
              "color": "white"
             }
            },
            "type": "table"
           }
          ]
         },
         "layout": {
          "annotationdefaults": {
           "arrowcolor": "#2a3f5f",
           "arrowhead": 0,
           "arrowwidth": 1
          },
          "autotypenumbers": "strict",
          "coloraxis": {
           "colorbar": {
            "outlinewidth": 0,
            "ticks": ""
           }
          },
          "colorscale": {
           "diverging": [
            [
             0,
             "#8e0152"
            ],
            [
             0.1,
             "#c51b7d"
            ],
            [
             0.2,
             "#de77ae"
            ],
            [
             0.3,
             "#f1b6da"
            ],
            [
             0.4,
             "#fde0ef"
            ],
            [
             0.5,
             "#f7f7f7"
            ],
            [
             0.6,
             "#e6f5d0"
            ],
            [
             0.7,
             "#b8e186"
            ],
            [
             0.8,
             "#7fbc41"
            ],
            [
             0.9,
             "#4d9221"
            ],
            [
             1,
             "#276419"
            ]
           ],
           "sequential": [
            [
             0,
             "#0d0887"
            ],
            [
             0.1111111111111111,
             "#46039f"
            ],
            [
             0.2222222222222222,
             "#7201a8"
            ],
            [
             0.3333333333333333,
             "#9c179e"
            ],
            [
             0.4444444444444444,
             "#bd3786"
            ],
            [
             0.5555555555555556,
             "#d8576b"
            ],
            [
             0.6666666666666666,
             "#ed7953"
            ],
            [
             0.7777777777777778,
             "#fb9f3a"
            ],
            [
             0.8888888888888888,
             "#fdca26"
            ],
            [
             1,
             "#f0f921"
            ]
           ],
           "sequentialminus": [
            [
             0,
             "#0d0887"
            ],
            [
             0.1111111111111111,
             "#46039f"
            ],
            [
             0.2222222222222222,
             "#7201a8"
            ],
            [
             0.3333333333333333,
             "#9c179e"
            ],
            [
             0.4444444444444444,
             "#bd3786"
            ],
            [
             0.5555555555555556,
             "#d8576b"
            ],
            [
             0.6666666666666666,
             "#ed7953"
            ],
            [
             0.7777777777777778,
             "#fb9f3a"
            ],
            [
             0.8888888888888888,
             "#fdca26"
            ],
            [
             1,
             "#f0f921"
            ]
           ]
          },
          "colorway": [
           "#636efa",
           "#EF553B",
           "#00cc96",
           "#ab63fa",
           "#FFA15A",
           "#19d3f3",
           "#FF6692",
           "#B6E880",
           "#FF97FF",
           "#FECB52"
          ],
          "font": {
           "color": "#2a3f5f"
          },
          "geo": {
           "bgcolor": "white",
           "lakecolor": "white",
           "landcolor": "#E5ECF6",
           "showlakes": true,
           "showland": true,
           "subunitcolor": "white"
          },
          "hoverlabel": {
           "align": "left"
          },
          "hovermode": "closest",
          "mapbox": {
           "style": "light"
          },
          "paper_bgcolor": "white",
          "plot_bgcolor": "#E5ECF6",
          "polar": {
           "angularaxis": {
            "gridcolor": "white",
            "linecolor": "white",
            "ticks": ""
           },
           "bgcolor": "#E5ECF6",
           "radialaxis": {
            "gridcolor": "white",
            "linecolor": "white",
            "ticks": ""
           }
          },
          "scene": {
           "xaxis": {
            "backgroundcolor": "#E5ECF6",
            "gridcolor": "white",
            "gridwidth": 2,
            "linecolor": "white",
            "showbackground": true,
            "ticks": "",
            "zerolinecolor": "white"
           },
           "yaxis": {
            "backgroundcolor": "#E5ECF6",
            "gridcolor": "white",
            "gridwidth": 2,
            "linecolor": "white",
            "showbackground": true,
            "ticks": "",
            "zerolinecolor": "white"
           },
           "zaxis": {
            "backgroundcolor": "#E5ECF6",
            "gridcolor": "white",
            "gridwidth": 2,
            "linecolor": "white",
            "showbackground": true,
            "ticks": "",
            "zerolinecolor": "white"
           }
          },
          "shapedefaults": {
           "line": {
            "color": "#2a3f5f"
           }
          },
          "ternary": {
           "aaxis": {
            "gridcolor": "white",
            "linecolor": "white",
            "ticks": ""
           },
           "baxis": {
            "gridcolor": "white",
            "linecolor": "white",
            "ticks": ""
           },
           "bgcolor": "#E5ECF6",
           "caxis": {
            "gridcolor": "white",
            "linecolor": "white",
            "ticks": ""
           }
          },
          "title": {
           "x": 0.05
          },
          "xaxis": {
           "automargin": true,
           "gridcolor": "white",
           "linecolor": "white",
           "ticks": "",
           "title": {
            "standoff": 15
           },
           "zerolinecolor": "white",
           "zerolinewidth": 2
          },
          "yaxis": {
           "automargin": true,
           "gridcolor": "white",
           "linecolor": "white",
           "ticks": "",
           "title": {
            "standoff": 15
           },
           "zerolinecolor": "white",
           "zerolinewidth": 2
          }
         }
        },
        "title": {
         "text": "Trades by product over time (1-minute)"
        },
        "xaxis": {
         "anchor": "y",
         "domain": [
          0,
          1
         ],
         "title": {
          "text": "time"
         }
        },
        "yaxis": {
         "anchor": "x",
         "domain": [
          0,
          1
         ],
         "title": {
          "text": "#trades"
         }
        }
       }
      }
     },
     "metadata": {},
     "output_type": "display_data"
    }
   ],
   "source": [
    "grouped_sorted = grouped.sort_values(['time', 'total_trades'], ascending=[True, False])\n",
    "grouped_top5 = grouped_sorted.groupby('time').head(5)\n",
    "\n",
    "fig_trades = px.bar(grouped_top5, x='time', y='total_trades', color='product_id', title='Trades by product over time (1-minute)')\n",
    "fig_trades.update_layout(xaxis_title='time', yaxis_title='#trades')\n",
    "fig_trades.show()"
   ]
  },
  {
   "cell_type": "code",
   "execution_count": 38,
   "metadata": {},
   "outputs": [
    {
     "data": {
      "text/html": [
       "<div>\n",
       "<style scoped>\n",
       "    .dataframe tbody tr th:only-of-type {\n",
       "        vertical-align: middle;\n",
       "    }\n",
       "\n",
       "    .dataframe tbody tr th {\n",
       "        vertical-align: top;\n",
       "    }\n",
       "\n",
       "    .dataframe thead th {\n",
       "        text-align: right;\n",
       "    }\n",
       "</style>\n",
       "<table border=\"1\" class=\"dataframe\">\n",
       "  <thead>\n",
       "    <tr style=\"text-align: right;\">\n",
       "      <th></th>\n",
       "      <th>time</th>\n",
       "      <th>product_id</th>\n",
       "      <th>quote_asset</th>\n",
       "      <th>total_quantity</th>\n",
       "      <th>avg_quote_price</th>\n",
       "      <th>total_trades</th>\n",
       "      <th>quote_asset_usd</th>\n",
       "      <th>total_usd</th>\n",
       "    </tr>\n",
       "  </thead>\n",
       "  <tbody>\n",
       "    <tr>\n",
       "      <th>0</th>\n",
       "      <td>2024-09-20 14:55:00+00:00</td>\n",
       "      <td>ACH-BTC</td>\n",
       "      <td>BTC</td>\n",
       "      <td>5282.044158</td>\n",
       "      <td>3.123261e-07</td>\n",
       "      <td>1</td>\n",
       "      <td>63224.932500</td>\n",
       "      <td>104.303458</td>\n",
       "    </tr>\n",
       "    <tr>\n",
       "      <th>1</th>\n",
       "      <td>2024-09-20 14:55:00+00:00</td>\n",
       "      <td>ADA-USD</td>\n",
       "      <td>USD</td>\n",
       "      <td>71.872956</td>\n",
       "      <td>3.554932e-01</td>\n",
       "      <td>2</td>\n",
       "      <td>1.000325</td>\n",
       "      <td>25.558653</td>\n",
       "    </tr>\n",
       "    <tr>\n",
       "      <th>2</th>\n",
       "      <td>2024-09-20 14:55:00+00:00</td>\n",
       "      <td>ALGO-ETH</td>\n",
       "      <td>ETH</td>\n",
       "      <td>26.099633</td>\n",
       "      <td>5.220652e-05</td>\n",
       "      <td>2</td>\n",
       "      <td>2533.630000</td>\n",
       "      <td>3.452251</td>\n",
       "    </tr>\n",
       "    <tr>\n",
       "      <th>3</th>\n",
       "      <td>2024-09-20 14:55:00+00:00</td>\n",
       "      <td>ALGO-EUR</td>\n",
       "      <td>EUR</td>\n",
       "      <td>92.472962</td>\n",
       "      <td>1.190300e-01</td>\n",
       "      <td>1</td>\n",
       "      <td>1.116500</td>\n",
       "      <td>12.289383</td>\n",
       "    </tr>\n",
       "    <tr>\n",
       "      <th>4</th>\n",
       "      <td>2024-09-20 14:55:00+00:00</td>\n",
       "      <td>ALGO-JASMY</td>\n",
       "      <td>JASMY</td>\n",
       "      <td>73.240071</td>\n",
       "      <td>6.333806e+00</td>\n",
       "      <td>1</td>\n",
       "      <td>0.021140</td>\n",
       "      <td>9.806601</td>\n",
       "    </tr>\n",
       "  </tbody>\n",
       "</table>\n",
       "</div>"
      ],
      "text/plain": [
       "                       time  product_id quote_asset  total_quantity  \\\n",
       "0 2024-09-20 14:55:00+00:00     ACH-BTC         BTC     5282.044158   \n",
       "1 2024-09-20 14:55:00+00:00     ADA-USD         USD       71.872956   \n",
       "2 2024-09-20 14:55:00+00:00    ALGO-ETH         ETH       26.099633   \n",
       "3 2024-09-20 14:55:00+00:00    ALGO-EUR         EUR       92.472962   \n",
       "4 2024-09-20 14:55:00+00:00  ALGO-JASMY       JASMY       73.240071   \n",
       "\n",
       "   avg_quote_price  total_trades  quote_asset_usd   total_usd  \n",
       "0     3.123261e-07             1     63224.932500  104.303458  \n",
       "1     3.554932e-01             2         1.000325   25.558653  \n",
       "2     5.220652e-05             2      2533.630000    3.452251  \n",
       "3     1.190300e-01             1         1.116500   12.289383  \n",
       "4     6.333806e+00             1         0.021140    9.806601  "
      ]
     },
     "execution_count": 38,
     "metadata": {},
     "output_type": "execute_result"
    }
   ],
   "source": [
    "priced = grouped.copy()\n",
    "\n",
    "priced['quote_asset_usd'] = priced['quote_asset'].map(asset_prices)\n",
    "priced['total_usd'] = priced['total_quantity'] * priced['avg_quote_price'] * priced['quote_asset_usd']\n",
    "\n",
    "priced.head()"
   ]
  },
  {
   "cell_type": "code",
   "execution_count": 49,
   "metadata": {},
   "outputs": [
    {
     "data": {
      "application/vnd.plotly.v1+json": {
       "config": {
        "plotlyServerURL": "https://plot.ly"
       },
       "data": [
        {
         "alignmentgroup": "True",
         "hovertemplate": "product_id=XRP-USD<br>time=%{x}<br>total_usd=%{y:$.2f}<extra></extra>",
         "legendgroup": "XRP-USD",
         "marker": {
          "color": "#636efa",
          "pattern": {
           "shape": ""
          }
         },
         "name": "XRP-USD",
         "offsetgroup": "XRP-USD",
         "orientation": "v",
         "showlegend": true,
         "textposition": "auto",
         "type": "bar",
         "x": [
          "2024-09-20T14:55:00+00:00",
          "2024-09-20T14:57:00+00:00",
          "2024-09-20T15:03:00+00:00"
         ],
         "xaxis": "x",
         "y": [
          1829.1322309848483,
          1470.3033048966502,
          1066.7973166136314
         ],
         "yaxis": "y"
        },
        {
         "alignmentgroup": "True",
         "hovertemplate": "product_id=BTC-USD<br>time=%{x}<br>total_usd=%{y:$.2f}<extra></extra>",
         "legendgroup": "BTC-USD",
         "marker": {
          "color": "#EF553B",
          "pattern": {
           "shape": ""
          }
         },
         "name": "BTC-USD",
         "offsetgroup": "BTC-USD",
         "orientation": "v",
         "showlegend": true,
         "textposition": "auto",
         "type": "bar",
         "x": [
          "2024-09-20T14:55:00+00:00",
          "2024-09-20T14:56:00+00:00",
          "2024-09-20T14:59:00+00:00",
          "2024-09-20T15:02:00+00:00",
          "2024-09-20T15:04:00+00:00",
          "2024-09-20T15:05:00+00:00"
         ],
         "xaxis": "x",
         "y": [
          631.9235818674642,
          6283.798251962258,
          1891.1814222945825,
          4698.14200590061,
          2735.3388625970338,
          1020.5620567703056
         ],
         "yaxis": "y"
        },
        {
         "alignmentgroup": "True",
         "hovertemplate": "product_id=ALGO-USD<br>time=%{x}<br>total_usd=%{y:$.2f}<extra></extra>",
         "legendgroup": "ALGO-USD",
         "marker": {
          "color": "#00cc96",
          "pattern": {
           "shape": ""
          }
         },
         "name": "ALGO-USD",
         "offsetgroup": "ALGO-USD",
         "orientation": "v",
         "showlegend": true,
         "textposition": "auto",
         "type": "bar",
         "x": [
          "2024-09-20T14:55:00+00:00"
         ],
         "xaxis": "x",
         "y": [
          454.98049522717884
         ],
         "yaxis": "y"
        },
        {
         "alignmentgroup": "True",
         "hovertemplate": "product_id=COMP-USDC<br>time=%{x}<br>total_usd=%{y:$.2f}<extra></extra>",
         "legendgroup": "COMP-USDC",
         "marker": {
          "color": "#ab63fa",
          "pattern": {
           "shape": ""
          }
         },
         "name": "COMP-USDC",
         "offsetgroup": "COMP-USDC",
         "orientation": "v",
         "showlegend": true,
         "textposition": "auto",
         "type": "bar",
         "x": [
          "2024-09-20T14:55:00+00:00"
         ],
         "xaxis": "x",
         "y": [
          218.26622541361775
         ],
         "yaxis": "y"
        },
        {
         "alignmentgroup": "True",
         "hovertemplate": "product_id=HBAR-USD<br>time=%{x}<br>total_usd=%{y:$.2f}<extra></extra>",
         "legendgroup": "HBAR-USD",
         "marker": {
          "color": "#FFA15A",
          "pattern": {
           "shape": ""
          }
         },
         "name": "HBAR-USD",
         "offsetgroup": "HBAR-USD",
         "orientation": "v",
         "showlegend": true,
         "textposition": "auto",
         "type": "bar",
         "x": [
          "2024-09-20T14:55:00+00:00"
         ],
         "xaxis": "x",
         "y": [
          193.65492532059494
         ],
         "yaxis": "y"
        },
        {
         "alignmentgroup": "True",
         "hovertemplate": "product_id=ETH-USD<br>time=%{x}<br>total_usd=%{y:$.2f}<extra></extra>",
         "legendgroup": "ETH-USD",
         "marker": {
          "color": "#19d3f3",
          "pattern": {
           "shape": ""
          }
         },
         "name": "ETH-USD",
         "offsetgroup": "ETH-USD",
         "orientation": "v",
         "showlegend": true,
         "textposition": "auto",
         "type": "bar",
         "x": [
          "2024-09-20T14:56:00+00:00",
          "2024-09-20T14:57:00+00:00",
          "2024-09-20T14:59:00+00:00",
          "2024-09-20T15:01:00+00:00",
          "2024-09-20T15:02:00+00:00",
          "2024-09-20T15:03:00+00:00",
          "2024-09-20T15:04:00+00:00"
         ],
         "xaxis": "x",
         "y": [
          5898.992211386925,
          1435.3835843071074,
          13932.915128112973,
          3045.4284319408935,
          2987.6074334875098,
          831.4968918867595,
          3003.792762146949
         ],
         "yaxis": "y"
        },
        {
         "alignmentgroup": "True",
         "hovertemplate": "product_id=MATIC-GBP<br>time=%{x}<br>total_usd=%{y:$.2f}<extra></extra>",
         "legendgroup": "MATIC-GBP",
         "marker": {
          "color": "#FF6692",
          "pattern": {
           "shape": ""
          }
         },
         "name": "MATIC-GBP",
         "offsetgroup": "MATIC-GBP",
         "orientation": "v",
         "showlegend": true,
         "textposition": "auto",
         "type": "bar",
         "x": [
          "2024-09-20T14:56:00+00:00",
          "2024-09-20T14:58:00+00:00"
         ],
         "xaxis": "x",
         "y": [
          3986.338704925,
          2443.087702364108
         ],
         "yaxis": "y"
        },
        {
         "alignmentgroup": "True",
         "hovertemplate": "product_id=TIA-USDC<br>time=%{x}<br>total_usd=%{y:$.2f}<extra></extra>",
         "legendgroup": "TIA-USDC",
         "marker": {
          "color": "#B6E880",
          "pattern": {
           "shape": ""
          }
         },
         "name": "TIA-USDC",
         "offsetgroup": "TIA-USDC",
         "orientation": "v",
         "showlegend": true,
         "textposition": "auto",
         "type": "bar",
         "x": [
          "2024-09-20T14:56:00+00:00"
         ],
         "xaxis": "x",
         "y": [
          2491.0933483791473
         ],
         "yaxis": "y"
        },
        {
         "alignmentgroup": "True",
         "hovertemplate": "product_id=ETH-EUR<br>time=%{x}<br>total_usd=%{y:$.2f}<extra></extra>",
         "legendgroup": "ETH-EUR",
         "marker": {
          "color": "#FF97FF",
          "pattern": {
           "shape": ""
          }
         },
         "name": "ETH-EUR",
         "offsetgroup": "ETH-EUR",
         "orientation": "v",
         "showlegend": true,
         "textposition": "auto",
         "type": "bar",
         "x": [
          "2024-09-20T14:56:00+00:00",
          "2024-09-20T15:05:00+00:00"
         ],
         "xaxis": "x",
         "y": [
          1185.6401187529252,
          561.9799015737124
         ],
         "yaxis": "y"
        },
        {
         "alignmentgroup": "True",
         "hovertemplate": "product_id=ETH-SOL<br>time=%{x}<br>total_usd=%{y:$.2f}<extra></extra>",
         "legendgroup": "ETH-SOL",
         "marker": {
          "color": "#FECB52",
          "pattern": {
           "shape": ""
          }
         },
         "name": "ETH-SOL",
         "offsetgroup": "ETH-SOL",
         "orientation": "v",
         "showlegend": true,
         "textposition": "auto",
         "type": "bar",
         "x": [
          "2024-09-20T14:57:00+00:00"
         ],
         "xaxis": "x",
         "y": [
          42439.72745336329
         ],
         "yaxis": "y"
        },
        {
         "alignmentgroup": "True",
         "hovertemplate": "product_id=AERO-USD<br>time=%{x}<br>total_usd=%{y:$.2f}<extra></extra>",
         "legendgroup": "AERO-USD",
         "marker": {
          "color": "#636efa",
          "pattern": {
           "shape": ""
          }
         },
         "name": "AERO-USD",
         "offsetgroup": "AERO-USD",
         "orientation": "v",
         "showlegend": true,
         "textposition": "auto",
         "type": "bar",
         "x": [
          "2024-09-20T14:57:00+00:00"
         ],
         "xaxis": "x",
         "y": [
          4175.052804135874
         ],
         "yaxis": "y"
        },
        {
         "alignmentgroup": "True",
         "hovertemplate": "product_id=SUI-USDC<br>time=%{x}<br>total_usd=%{y:$.2f}<extra></extra>",
         "legendgroup": "SUI-USDC",
         "marker": {
          "color": "#EF553B",
          "pattern": {
           "shape": ""
          }
         },
         "name": "SUI-USDC",
         "offsetgroup": "SUI-USDC",
         "orientation": "v",
         "showlegend": true,
         "textposition": "auto",
         "type": "bar",
         "x": [
          "2024-09-20T14:57:00+00:00",
          "2024-09-20T14:58:00+00:00"
         ],
         "xaxis": "x",
         "y": [
          1212.1888381452836,
          5383.3453374551855
         ],
         "yaxis": "y"
        },
        {
         "alignmentgroup": "True",
         "hovertemplate": "product_id=SEI-USDC<br>time=%{x}<br>total_usd=%{y:$.2f}<extra></extra>",
         "legendgroup": "SEI-USDC",
         "marker": {
          "color": "#00cc96",
          "pattern": {
           "shape": ""
          }
         },
         "name": "SEI-USDC",
         "offsetgroup": "SEI-USDC",
         "orientation": "v",
         "showlegend": true,
         "textposition": "auto",
         "type": "bar",
         "x": [
          "2024-09-20T14:58:00+00:00"
         ],
         "xaxis": "x",
         "y": [
          6003.483631336218
         ],
         "yaxis": "y"
        },
        {
         "alignmentgroup": "True",
         "hovertemplate": "product_id=SUI-USD<br>time=%{x}<br>total_usd=%{y:$.2f}<extra></extra>",
         "legendgroup": "SUI-USD",
         "marker": {
          "color": "#ab63fa",
          "pattern": {
           "shape": ""
          }
         },
         "name": "SUI-USD",
         "offsetgroup": "SUI-USD",
         "orientation": "v",
         "showlegend": true,
         "textposition": "auto",
         "type": "bar",
         "x": [
          "2024-09-20T14:58:00+00:00",
          "2024-09-20T15:00:00+00:00"
         ],
         "xaxis": "x",
         "y": [
          5246.416775418823,
          680.1648385436644
         ],
         "yaxis": "y"
        },
        {
         "alignmentgroup": "True",
         "hovertemplate": "product_id=SOL-GBP<br>time=%{x}<br>total_usd=%{y:$.2f}<extra></extra>",
         "legendgroup": "SOL-GBP",
         "marker": {
          "color": "#FFA15A",
          "pattern": {
           "shape": ""
          }
         },
         "name": "SOL-GBP",
         "offsetgroup": "SOL-GBP",
         "orientation": "v",
         "showlegend": true,
         "textposition": "auto",
         "type": "bar",
         "x": [
          "2024-09-20T14:58:00+00:00",
          "2024-09-20T14:59:00+00:00"
         ],
         "xaxis": "x",
         "y": [
          3250.3948470554583,
          650.3293819232948
         ],
         "yaxis": "y"
        },
        {
         "alignmentgroup": "True",
         "hovertemplate": "product_id=SEI-USD<br>time=%{x}<br>total_usd=%{y:$.2f}<extra></extra>",
         "legendgroup": "SEI-USD",
         "marker": {
          "color": "#19d3f3",
          "pattern": {
           "shape": ""
          }
         },
         "name": "SEI-USD",
         "offsetgroup": "SEI-USD",
         "orientation": "v",
         "showlegend": true,
         "textposition": "auto",
         "type": "bar",
         "x": [
          "2024-09-20T14:59:00+00:00"
         ],
         "xaxis": "x",
         "y": [
          5815.462114086939
         ],
         "yaxis": "y"
        },
        {
         "alignmentgroup": "True",
         "hovertemplate": "product_id=AAVE-USD<br>time=%{x}<br>total_usd=%{y:$.2f}<extra></extra>",
         "legendgroup": "AAVE-USD",
         "marker": {
          "color": "#FF6692",
          "pattern": {
           "shape": ""
          }
         },
         "name": "AAVE-USD",
         "offsetgroup": "AAVE-USD",
         "orientation": "v",
         "showlegend": true,
         "textposition": "auto",
         "type": "bar",
         "x": [
          "2024-09-20T14:59:00+00:00"
         ],
         "xaxis": "x",
         "y": [
          3323.7618113118983
         ],
         "yaxis": "y"
        },
        {
         "alignmentgroup": "True",
         "hovertemplate": "product_id=XLM-USD<br>time=%{x}<br>total_usd=%{y:$.2f}<extra></extra>",
         "legendgroup": "XLM-USD",
         "marker": {
          "color": "#B6E880",
          "pattern": {
           "shape": ""
          }
         },
         "name": "XLM-USD",
         "offsetgroup": "XLM-USD",
         "orientation": "v",
         "showlegend": true,
         "textposition": "auto",
         "type": "bar",
         "x": [
          "2024-09-20T15:00:00+00:00"
         ],
         "xaxis": "x",
         "y": [
          34011.99209243285
         ],
         "yaxis": "y"
        },
        {
         "alignmentgroup": "True",
         "hovertemplate": "product_id=BTC-EUR<br>time=%{x}<br>total_usd=%{y:$.2f}<extra></extra>",
         "legendgroup": "BTC-EUR",
         "marker": {
          "color": "#FF97FF",
          "pattern": {
           "shape": ""
          }
         },
         "name": "BTC-EUR",
         "offsetgroup": "BTC-EUR",
         "orientation": "v",
         "showlegend": true,
         "textposition": "auto",
         "type": "bar",
         "x": [
          "2024-09-20T15:00:00+00:00",
          "2024-09-20T15:04:00+00:00",
          "2024-09-20T15:05:00+00:00"
         ],
         "xaxis": "x",
         "y": [
          595.7290664176647,
          5091.981631057603,
          3591.4938003833954
         ],
         "yaxis": "y"
        },
        {
         "alignmentgroup": "True",
         "hovertemplate": "product_id=BTC-GBP<br>time=%{x}<br>total_usd=%{y:$.2f}<extra></extra>",
         "legendgroup": "BTC-GBP",
         "marker": {
          "color": "#FECB52",
          "pattern": {
           "shape": ""
          }
         },
         "name": "BTC-GBP",
         "offsetgroup": "BTC-GBP",
         "orientation": "v",
         "showlegend": true,
         "textposition": "auto",
         "type": "bar",
         "x": [
          "2024-09-20T15:00:00+00:00",
          "2024-09-20T15:02:00+00:00",
          "2024-09-20T15:03:00+00:00"
         ],
         "xaxis": "x",
         "y": [
          572.3833456986174,
          774.3164026565619,
          7402.581723864668
         ],
         "yaxis": "y"
        },
        {
         "alignmentgroup": "True",
         "hovertemplate": "product_id=GRT-USD<br>time=%{x}<br>total_usd=%{y:$.2f}<extra></extra>",
         "legendgroup": "GRT-USD",
         "marker": {
          "color": "#636efa",
          "pattern": {
           "shape": ""
          }
         },
         "name": "GRT-USD",
         "offsetgroup": "GRT-USD",
         "orientation": "v",
         "showlegend": true,
         "textposition": "auto",
         "type": "bar",
         "x": [
          "2024-09-20T15:00:00+00:00",
          "2024-09-20T15:05:00+00:00"
         ],
         "xaxis": "x",
         "y": [
          495.16087500009695,
          617.5592140905682
         ],
         "yaxis": "y"
        },
        {
         "alignmentgroup": "True",
         "hovertemplate": "product_id=BTC-SUI<br>time=%{x}<br>total_usd=%{y:$.2f}<extra></extra>",
         "legendgroup": "BTC-SUI",
         "marker": {
          "color": "#EF553B",
          "pattern": {
           "shape": ""
          }
         },
         "name": "BTC-SUI",
         "offsetgroup": "BTC-SUI",
         "orientation": "v",
         "showlegend": true,
         "textposition": "auto",
         "type": "bar",
         "x": [
          "2024-09-20T15:01:00+00:00"
         ],
         "xaxis": "x",
         "y": [
          2507.980472388859
         ],
         "yaxis": "y"
        },
        {
         "alignmentgroup": "True",
         "hovertemplate": "product_id=FET-USD<br>time=%{x}<br>total_usd=%{y:$.2f}<extra></extra>",
         "legendgroup": "FET-USD",
         "marker": {
          "color": "#00cc96",
          "pattern": {
           "shape": ""
          }
         },
         "name": "FET-USD",
         "offsetgroup": "FET-USD",
         "orientation": "v",
         "showlegend": true,
         "textposition": "auto",
         "type": "bar",
         "x": [
          "2024-09-20T15:01:00+00:00"
         ],
         "xaxis": "x",
         "y": [
          606.3677133331432
         ],
         "yaxis": "y"
        },
        {
         "alignmentgroup": "True",
         "hovertemplate": "product_id=ETH-SHIB<br>time=%{x}<br>total_usd=%{y:$.2f}<extra></extra>",
         "legendgroup": "ETH-SHIB",
         "marker": {
          "color": "#ab63fa",
          "pattern": {
           "shape": ""
          }
         },
         "name": "ETH-SHIB",
         "offsetgroup": "ETH-SHIB",
         "orientation": "v",
         "showlegend": true,
         "textposition": "auto",
         "type": "bar",
         "x": [
          "2024-09-20T15:01:00+00:00"
         ],
         "xaxis": "x",
         "y": [
          600.5570746647423
         ],
         "yaxis": "y"
        },
        {
         "alignmentgroup": "True",
         "hovertemplate": "product_id=SHIB-USD<br>time=%{x}<br>total_usd=%{y:$.2f}<extra></extra>",
         "legendgroup": "SHIB-USD",
         "marker": {
          "color": "#FFA15A",
          "pattern": {
           "shape": ""
          }
         },
         "name": "SHIB-USD",
         "offsetgroup": "SHIB-USD",
         "orientation": "v",
         "showlegend": true,
         "textposition": "auto",
         "type": "bar",
         "x": [
          "2024-09-20T15:01:00+00:00"
         ],
         "xaxis": "x",
         "y": [
          426.6151668111967
         ],
         "yaxis": "y"
        },
        {
         "alignmentgroup": "True",
         "hovertemplate": "product_id=ADA-USD<br>time=%{x}<br>total_usd=%{y:$.2f}<extra></extra>",
         "legendgroup": "ADA-USD",
         "marker": {
          "color": "#19d3f3",
          "pattern": {
           "shape": ""
          }
         },
         "name": "ADA-USD",
         "offsetgroup": "ADA-USD",
         "orientation": "v",
         "showlegend": true,
         "textposition": "auto",
         "type": "bar",
         "x": [
          "2024-09-20T15:02:00+00:00"
         ],
         "xaxis": "x",
         "y": [
          4183.903461830694
         ],
         "yaxis": "y"
        },
        {
         "alignmentgroup": "True",
         "hovertemplate": "product_id=AVAX-USD<br>time=%{x}<br>total_usd=%{y:$.2f}<extra></extra>",
         "legendgroup": "AVAX-USD",
         "marker": {
          "color": "#FF6692",
          "pattern": {
           "shape": ""
          }
         },
         "name": "AVAX-USD",
         "offsetgroup": "AVAX-USD",
         "orientation": "v",
         "showlegend": true,
         "textposition": "auto",
         "type": "bar",
         "x": [
          "2024-09-20T15:02:00+00:00"
         ],
         "xaxis": "x",
         "y": [
          1146.0249011833068
         ],
         "yaxis": "y"
        },
        {
         "alignmentgroup": "True",
         "hovertemplate": "product_id=LTC-USD<br>time=%{x}<br>total_usd=%{y:$.2f}<extra></extra>",
         "legendgroup": "LTC-USD",
         "marker": {
          "color": "#B6E880",
          "pattern": {
           "shape": ""
          }
         },
         "name": "LTC-USD",
         "offsetgroup": "LTC-USD",
         "orientation": "v",
         "showlegend": true,
         "textposition": "auto",
         "type": "bar",
         "x": [
          "2024-09-20T15:03:00+00:00"
         ],
         "xaxis": "x",
         "y": [
          8837.515911084502
         ],
         "yaxis": "y"
        },
        {
         "alignmentgroup": "True",
         "hovertemplate": "product_id=XTZ-USD<br>time=%{x}<br>total_usd=%{y:$.2f}<extra></extra>",
         "legendgroup": "XTZ-USD",
         "marker": {
          "color": "#FF97FF",
          "pattern": {
           "shape": ""
          }
         },
         "name": "XTZ-USD",
         "offsetgroup": "XTZ-USD",
         "orientation": "v",
         "showlegend": true,
         "textposition": "auto",
         "type": "bar",
         "x": [
          "2024-09-20T15:03:00+00:00"
         ],
         "xaxis": "x",
         "y": [
          971.6187619132621
         ],
         "yaxis": "y"
        },
        {
         "alignmentgroup": "True",
         "hovertemplate": "product_id=SOL-USDC<br>time=%{x}<br>total_usd=%{y:$.2f}<extra></extra>",
         "legendgroup": "SOL-USDC",
         "marker": {
          "color": "#FECB52",
          "pattern": {
           "shape": ""
          }
         },
         "name": "SOL-USDC",
         "offsetgroup": "SOL-USDC",
         "orientation": "v",
         "showlegend": true,
         "textposition": "auto",
         "type": "bar",
         "x": [
          "2024-09-20T15:04:00+00:00"
         ],
         "xaxis": "x",
         "y": [
          3451.020060527485
         ],
         "yaxis": "y"
        },
        {
         "alignmentgroup": "True",
         "hovertemplate": "product_id=ETH-GBP<br>time=%{x}<br>total_usd=%{y:$.2f}<extra></extra>",
         "legendgroup": "ETH-GBP",
         "marker": {
          "color": "#636efa",
          "pattern": {
           "shape": ""
          }
         },
         "name": "ETH-GBP",
         "offsetgroup": "ETH-GBP",
         "orientation": "v",
         "showlegend": true,
         "textposition": "auto",
         "type": "bar",
         "x": [
          "2024-09-20T15:04:00+00:00"
         ],
         "xaxis": "x",
         "y": [
          2576.008062739909
         ],
         "yaxis": "y"
        },
        {
         "alignmentgroup": "True",
         "hovertemplate": "product_id=RARI-USDC<br>time=%{x}<br>total_usd=%{y:$.2f}<extra></extra>",
         "legendgroup": "RARI-USDC",
         "marker": {
          "color": "#EF553B",
          "pattern": {
           "shape": ""
          }
         },
         "name": "RARI-USDC",
         "offsetgroup": "RARI-USDC",
         "orientation": "v",
         "showlegend": true,
         "textposition": "auto",
         "type": "bar",
         "x": [
          "2024-09-20T15:05:00+00:00"
         ],
         "xaxis": "x",
         "y": [
          897.9575229024639
         ],
         "yaxis": "y"
        }
       ],
       "layout": {
        "barmode": "relative",
        "legend": {
         "title": {
          "text": "product_id"
         },
         "tracegroupgap": 0
        },
        "template": {
         "data": {
          "bar": [
           {
            "error_x": {
             "color": "#2a3f5f"
            },
            "error_y": {
             "color": "#2a3f5f"
            },
            "marker": {
             "line": {
              "color": "#E5ECF6",
              "width": 0.5
             },
             "pattern": {
              "fillmode": "overlay",
              "size": 10,
              "solidity": 0.2
             }
            },
            "type": "bar"
           }
          ],
          "barpolar": [
           {
            "marker": {
             "line": {
              "color": "#E5ECF6",
              "width": 0.5
             },
             "pattern": {
              "fillmode": "overlay",
              "size": 10,
              "solidity": 0.2
             }
            },
            "type": "barpolar"
           }
          ],
          "carpet": [
           {
            "aaxis": {
             "endlinecolor": "#2a3f5f",
             "gridcolor": "white",
             "linecolor": "white",
             "minorgridcolor": "white",
             "startlinecolor": "#2a3f5f"
            },
            "baxis": {
             "endlinecolor": "#2a3f5f",
             "gridcolor": "white",
             "linecolor": "white",
             "minorgridcolor": "white",
             "startlinecolor": "#2a3f5f"
            },
            "type": "carpet"
           }
          ],
          "choropleth": [
           {
            "colorbar": {
             "outlinewidth": 0,
             "ticks": ""
            },
            "type": "choropleth"
           }
          ],
          "contour": [
           {
            "colorbar": {
             "outlinewidth": 0,
             "ticks": ""
            },
            "colorscale": [
             [
              0,
              "#0d0887"
             ],
             [
              0.1111111111111111,
              "#46039f"
             ],
             [
              0.2222222222222222,
              "#7201a8"
             ],
             [
              0.3333333333333333,
              "#9c179e"
             ],
             [
              0.4444444444444444,
              "#bd3786"
             ],
             [
              0.5555555555555556,
              "#d8576b"
             ],
             [
              0.6666666666666666,
              "#ed7953"
             ],
             [
              0.7777777777777778,
              "#fb9f3a"
             ],
             [
              0.8888888888888888,
              "#fdca26"
             ],
             [
              1,
              "#f0f921"
             ]
            ],
            "type": "contour"
           }
          ],
          "contourcarpet": [
           {
            "colorbar": {
             "outlinewidth": 0,
             "ticks": ""
            },
            "type": "contourcarpet"
           }
          ],
          "heatmap": [
           {
            "colorbar": {
             "outlinewidth": 0,
             "ticks": ""
            },
            "colorscale": [
             [
              0,
              "#0d0887"
             ],
             [
              0.1111111111111111,
              "#46039f"
             ],
             [
              0.2222222222222222,
              "#7201a8"
             ],
             [
              0.3333333333333333,
              "#9c179e"
             ],
             [
              0.4444444444444444,
              "#bd3786"
             ],
             [
              0.5555555555555556,
              "#d8576b"
             ],
             [
              0.6666666666666666,
              "#ed7953"
             ],
             [
              0.7777777777777778,
              "#fb9f3a"
             ],
             [
              0.8888888888888888,
              "#fdca26"
             ],
             [
              1,
              "#f0f921"
             ]
            ],
            "type": "heatmap"
           }
          ],
          "heatmapgl": [
           {
            "colorbar": {
             "outlinewidth": 0,
             "ticks": ""
            },
            "colorscale": [
             [
              0,
              "#0d0887"
             ],
             [
              0.1111111111111111,
              "#46039f"
             ],
             [
              0.2222222222222222,
              "#7201a8"
             ],
             [
              0.3333333333333333,
              "#9c179e"
             ],
             [
              0.4444444444444444,
              "#bd3786"
             ],
             [
              0.5555555555555556,
              "#d8576b"
             ],
             [
              0.6666666666666666,
              "#ed7953"
             ],
             [
              0.7777777777777778,
              "#fb9f3a"
             ],
             [
              0.8888888888888888,
              "#fdca26"
             ],
             [
              1,
              "#f0f921"
             ]
            ],
            "type": "heatmapgl"
           }
          ],
          "histogram": [
           {
            "marker": {
             "pattern": {
              "fillmode": "overlay",
              "size": 10,
              "solidity": 0.2
             }
            },
            "type": "histogram"
           }
          ],
          "histogram2d": [
           {
            "colorbar": {
             "outlinewidth": 0,
             "ticks": ""
            },
            "colorscale": [
             [
              0,
              "#0d0887"
             ],
             [
              0.1111111111111111,
              "#46039f"
             ],
             [
              0.2222222222222222,
              "#7201a8"
             ],
             [
              0.3333333333333333,
              "#9c179e"
             ],
             [
              0.4444444444444444,
              "#bd3786"
             ],
             [
              0.5555555555555556,
              "#d8576b"
             ],
             [
              0.6666666666666666,
              "#ed7953"
             ],
             [
              0.7777777777777778,
              "#fb9f3a"
             ],
             [
              0.8888888888888888,
              "#fdca26"
             ],
             [
              1,
              "#f0f921"
             ]
            ],
            "type": "histogram2d"
           }
          ],
          "histogram2dcontour": [
           {
            "colorbar": {
             "outlinewidth": 0,
             "ticks": ""
            },
            "colorscale": [
             [
              0,
              "#0d0887"
             ],
             [
              0.1111111111111111,
              "#46039f"
             ],
             [
              0.2222222222222222,
              "#7201a8"
             ],
             [
              0.3333333333333333,
              "#9c179e"
             ],
             [
              0.4444444444444444,
              "#bd3786"
             ],
             [
              0.5555555555555556,
              "#d8576b"
             ],
             [
              0.6666666666666666,
              "#ed7953"
             ],
             [
              0.7777777777777778,
              "#fb9f3a"
             ],
             [
              0.8888888888888888,
              "#fdca26"
             ],
             [
              1,
              "#f0f921"
             ]
            ],
            "type": "histogram2dcontour"
           }
          ],
          "mesh3d": [
           {
            "colorbar": {
             "outlinewidth": 0,
             "ticks": ""
            },
            "type": "mesh3d"
           }
          ],
          "parcoords": [
           {
            "line": {
             "colorbar": {
              "outlinewidth": 0,
              "ticks": ""
             }
            },
            "type": "parcoords"
           }
          ],
          "pie": [
           {
            "automargin": true,
            "type": "pie"
           }
          ],
          "scatter": [
           {
            "fillpattern": {
             "fillmode": "overlay",
             "size": 10,
             "solidity": 0.2
            },
            "type": "scatter"
           }
          ],
          "scatter3d": [
           {
            "line": {
             "colorbar": {
              "outlinewidth": 0,
              "ticks": ""
             }
            },
            "marker": {
             "colorbar": {
              "outlinewidth": 0,
              "ticks": ""
             }
            },
            "type": "scatter3d"
           }
          ],
          "scattercarpet": [
           {
            "marker": {
             "colorbar": {
              "outlinewidth": 0,
              "ticks": ""
             }
            },
            "type": "scattercarpet"
           }
          ],
          "scattergeo": [
           {
            "marker": {
             "colorbar": {
              "outlinewidth": 0,
              "ticks": ""
             }
            },
            "type": "scattergeo"
           }
          ],
          "scattergl": [
           {
            "marker": {
             "colorbar": {
              "outlinewidth": 0,
              "ticks": ""
             }
            },
            "type": "scattergl"
           }
          ],
          "scattermapbox": [
           {
            "marker": {
             "colorbar": {
              "outlinewidth": 0,
              "ticks": ""
             }
            },
            "type": "scattermapbox"
           }
          ],
          "scatterpolar": [
           {
            "marker": {
             "colorbar": {
              "outlinewidth": 0,
              "ticks": ""
             }
            },
            "type": "scatterpolar"
           }
          ],
          "scatterpolargl": [
           {
            "marker": {
             "colorbar": {
              "outlinewidth": 0,
              "ticks": ""
             }
            },
            "type": "scatterpolargl"
           }
          ],
          "scatterternary": [
           {
            "marker": {
             "colorbar": {
              "outlinewidth": 0,
              "ticks": ""
             }
            },
            "type": "scatterternary"
           }
          ],
          "surface": [
           {
            "colorbar": {
             "outlinewidth": 0,
             "ticks": ""
            },
            "colorscale": [
             [
              0,
              "#0d0887"
             ],
             [
              0.1111111111111111,
              "#46039f"
             ],
             [
              0.2222222222222222,
              "#7201a8"
             ],
             [
              0.3333333333333333,
              "#9c179e"
             ],
             [
              0.4444444444444444,
              "#bd3786"
             ],
             [
              0.5555555555555556,
              "#d8576b"
             ],
             [
              0.6666666666666666,
              "#ed7953"
             ],
             [
              0.7777777777777778,
              "#fb9f3a"
             ],
             [
              0.8888888888888888,
              "#fdca26"
             ],
             [
              1,
              "#f0f921"
             ]
            ],
            "type": "surface"
           }
          ],
          "table": [
           {
            "cells": {
             "fill": {
              "color": "#EBF0F8"
             },
             "line": {
              "color": "white"
             }
            },
            "header": {
             "fill": {
              "color": "#C8D4E3"
             },
             "line": {
              "color": "white"
             }
            },
            "type": "table"
           }
          ]
         },
         "layout": {
          "annotationdefaults": {
           "arrowcolor": "#2a3f5f",
           "arrowhead": 0,
           "arrowwidth": 1
          },
          "autotypenumbers": "strict",
          "coloraxis": {
           "colorbar": {
            "outlinewidth": 0,
            "ticks": ""
           }
          },
          "colorscale": {
           "diverging": [
            [
             0,
             "#8e0152"
            ],
            [
             0.1,
             "#c51b7d"
            ],
            [
             0.2,
             "#de77ae"
            ],
            [
             0.3,
             "#f1b6da"
            ],
            [
             0.4,
             "#fde0ef"
            ],
            [
             0.5,
             "#f7f7f7"
            ],
            [
             0.6,
             "#e6f5d0"
            ],
            [
             0.7,
             "#b8e186"
            ],
            [
             0.8,
             "#7fbc41"
            ],
            [
             0.9,
             "#4d9221"
            ],
            [
             1,
             "#276419"
            ]
           ],
           "sequential": [
            [
             0,
             "#0d0887"
            ],
            [
             0.1111111111111111,
             "#46039f"
            ],
            [
             0.2222222222222222,
             "#7201a8"
            ],
            [
             0.3333333333333333,
             "#9c179e"
            ],
            [
             0.4444444444444444,
             "#bd3786"
            ],
            [
             0.5555555555555556,
             "#d8576b"
            ],
            [
             0.6666666666666666,
             "#ed7953"
            ],
            [
             0.7777777777777778,
             "#fb9f3a"
            ],
            [
             0.8888888888888888,
             "#fdca26"
            ],
            [
             1,
             "#f0f921"
            ]
           ],
           "sequentialminus": [
            [
             0,
             "#0d0887"
            ],
            [
             0.1111111111111111,
             "#46039f"
            ],
            [
             0.2222222222222222,
             "#7201a8"
            ],
            [
             0.3333333333333333,
             "#9c179e"
            ],
            [
             0.4444444444444444,
             "#bd3786"
            ],
            [
             0.5555555555555556,
             "#d8576b"
            ],
            [
             0.6666666666666666,
             "#ed7953"
            ],
            [
             0.7777777777777778,
             "#fb9f3a"
            ],
            [
             0.8888888888888888,
             "#fdca26"
            ],
            [
             1,
             "#f0f921"
            ]
           ]
          },
          "colorway": [
           "#636efa",
           "#EF553B",
           "#00cc96",
           "#ab63fa",
           "#FFA15A",
           "#19d3f3",
           "#FF6692",
           "#B6E880",
           "#FF97FF",
           "#FECB52"
          ],
          "font": {
           "color": "#2a3f5f"
          },
          "geo": {
           "bgcolor": "white",
           "lakecolor": "white",
           "landcolor": "#E5ECF6",
           "showlakes": true,
           "showland": true,
           "subunitcolor": "white"
          },
          "hoverlabel": {
           "align": "left"
          },
          "hovermode": "closest",
          "mapbox": {
           "style": "light"
          },
          "paper_bgcolor": "white",
          "plot_bgcolor": "#E5ECF6",
          "polar": {
           "angularaxis": {
            "gridcolor": "white",
            "linecolor": "white",
            "ticks": ""
           },
           "bgcolor": "#E5ECF6",
           "radialaxis": {
            "gridcolor": "white",
            "linecolor": "white",
            "ticks": ""
           }
          },
          "scene": {
           "xaxis": {
            "backgroundcolor": "#E5ECF6",
            "gridcolor": "white",
            "gridwidth": 2,
            "linecolor": "white",
            "showbackground": true,
            "ticks": "",
            "zerolinecolor": "white"
           },
           "yaxis": {
            "backgroundcolor": "#E5ECF6",
            "gridcolor": "white",
            "gridwidth": 2,
            "linecolor": "white",
            "showbackground": true,
            "ticks": "",
            "zerolinecolor": "white"
           },
           "zaxis": {
            "backgroundcolor": "#E5ECF6",
            "gridcolor": "white",
            "gridwidth": 2,
            "linecolor": "white",
            "showbackground": true,
            "ticks": "",
            "zerolinecolor": "white"
           }
          },
          "shapedefaults": {
           "line": {
            "color": "#2a3f5f"
           }
          },
          "ternary": {
           "aaxis": {
            "gridcolor": "white",
            "linecolor": "white",
            "ticks": ""
           },
           "baxis": {
            "gridcolor": "white",
            "linecolor": "white",
            "ticks": ""
           },
           "bgcolor": "#E5ECF6",
           "caxis": {
            "gridcolor": "white",
            "linecolor": "white",
            "ticks": ""
           }
          },
          "title": {
           "x": 0.05
          },
          "xaxis": {
           "automargin": true,
           "gridcolor": "white",
           "linecolor": "white",
           "ticks": "",
           "title": {
            "standoff": 15
           },
           "zerolinecolor": "white",
           "zerolinewidth": 2
          },
          "yaxis": {
           "automargin": true,
           "gridcolor": "white",
           "linecolor": "white",
           "ticks": "",
           "title": {
            "standoff": 15
           },
           "zerolinecolor": "white",
           "zerolinewidth": 2
          }
         }
        },
        "title": {
         "text": "Volume by product over time (1-minute)"
        },
        "xaxis": {
         "anchor": "y",
         "domain": [
          0,
          1
         ],
         "title": {
          "text": "time"
         }
        },
        "yaxis": {
         "anchor": "x",
         "domain": [
          0,
          1
         ],
         "title": {
          "text": "USD volume"
         }
        }
       }
      }
     },
     "metadata": {},
     "output_type": "display_data"
    }
   ],
   "source": [
    "grouped_sorted = priced.sort_values(['time', 'total_usd'], ascending=[True, False])\n",
    "grouped_top5 = grouped_sorted.groupby('time').head(5)\n",
    "\n",
    "fig_trades = px.bar(grouped_top5, \n",
    "                    x='time', y='total_usd', color='product_id', \n",
    "                    title='Volume by product over time (1-minute)',\n",
    "                    hover_data={'total_usd': ':$.2f'})\n",
    "fig_trades.update_layout(xaxis_title='time', yaxis_title='USD volume')\n",
    "fig_trades.show()"
   ]
  }
 ],
 "metadata": {
  "kernelspec": {
   "display_name": "record0x",
   "language": "python",
   "name": "python3"
  },
  "language_info": {
   "codemirror_mode": {
    "name": "ipython",
    "version": 3
   },
   "file_extension": ".py",
   "mimetype": "text/x-python",
   "name": "python",
   "nbconvert_exporter": "python",
   "pygments_lexer": "ipython3",
   "version": "3.11.10"
  }
 },
 "nbformat": 4,
 "nbformat_minor": 2
}
